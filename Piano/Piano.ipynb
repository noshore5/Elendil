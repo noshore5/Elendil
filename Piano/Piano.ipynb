{
 "cells": [
  {
   "cell_type": "code",
   "execution_count": 2,
   "metadata": {},
   "outputs": [],
   "source": [
    "import sounddevice as sd\n",
    "import numpy as np\n",
    "from pynput import keyboard\n",
    "import matplotlib.pyplot as plt\n",
    "import pandas as pd\n",
    "from IPython.display import display"
   ]
  },
  {
   "cell_type": "code",
   "execution_count": 4,
   "metadata": {},
   "outputs": [],
   "source": [
    "dt = 0.00001\n",
    "t = np.arange(0,2,dt)\n",
    "fs = 1/dt\n",
    "freq = 1000*2**(1/12)\n",
    "sound = np.sin(freq*t)\n",
    "\n",
    "sd.play(sound,1/dt,loop=False)"
   ]
  },
  {
   "cell_type": "code",
   "execution_count": 5,
   "metadata": {},
   "outputs": [],
   "source": [
    "sd.stop()"
   ]
  },
  {
   "cell_type": "code",
   "execution_count": 6,
   "metadata": {},
   "outputs": [
    {
     "name": "stdout",
     "output_type": "stream",
     "text": [
      "5\n"
     ]
    }
   ],
   "source": [
    "print(5)"
   ]
  },
  {
   "cell_type": "code",
   "execution_count": 7,
   "metadata": {},
   "outputs": [
    {
     "name": "stdout",
     "output_type": "stream",
     "text": [
      "<class 'list'>\n",
      "200001\n"
     ]
    }
   ],
   "source": [
    "sound = [0]\n",
    "print(type(sound))\n",
    "sound.extend(np.zeros(len(t)))\n",
    "print(len(sound))"
   ]
  },
  {
   "cell_type": "code",
   "execution_count": 12,
   "metadata": {},
   "outputs": [
    {
     "name": "stdout",
     "output_type": "stream",
     "text": [
      "[0, 3, 7, 10, 14]\n"
     ]
    }
   ],
   "source": [
    "def make_chord(chord):\n",
    "    notes = [0]\n",
    "\n",
    "    if chord in ['major','maj']:\n",
    "        notes.extend((4,7))\n",
    "    elif chord in ['minor','min']:\n",
    "        notes.extend((3,7))\n",
    "    elif chord in ['dim','diminished']:\n",
    "        notes.extend((3,6))\n",
    "    elif chord in ['maj7','major7']:\n",
    "        notes.extend((4,7,11))\n",
    "    elif chord in ['minor7','min7']:\n",
    "        notes.extend((3,7,10))\n",
    "    elif chord in ['dom7','dominant7']:\n",
    "        notes.extend((4,7,10))\n",
    "    elif chord in ['suspend2','sus2','suspended2']:\n",
    "        notes.extend((2,7))\n",
    "    elif chord in ['suspend4','sus4','suspended4']:\n",
    "        notes.extend((5,7))\n",
    "    elif chord in ['aug','augmented','aug5','augment5','augmented5']:\n",
    "        notes.extend((4,8))\n",
    "    elif chord in ['maj9','major9']:\n",
    "        notes.extend((4,7,11,14))\n",
    "    elif chord in ['min9','minor9']:\n",
    "        notes.extend((3,7,10,14))\n",
    "    elif chord in ['dom9','dominant9']:\n",
    "        notes.extend((4,7,10,14))\n",
    "    elif chord in ['maj11','major11']:\n",
    "        notes.extend((4,7,11,14,17))\n",
    "    elif chord in ['min11','minor11']:\n",
    "        notes.extend((3,7,10,14,17))\n",
    "    elif chord in ['chrom','chromatic']:\n",
    "        notes.extend((2,3,4,5,6,7,8,9,10,11,12,13,14,15,16,17,18,19,20,21,22,23,24))\n",
    "    return notes\n",
    "\n",
    "print(make_chord('min9'))\n"
   ]
  },
  {
   "cell_type": "code",
   "execution_count": 13,
   "metadata": {},
   "outputs": [],
   "source": [
    "def choose_key(key):\n",
    "    if key in ['c']:\n",
    "        return 0\n",
    "    if key in ['c#','db','csharp','dflat']:\n",
    "        return 1\n",
    "    if key in ['d']:\n",
    "        return 2\n",
    "    if key in ['d#','dsharp','eflat','eb']:\n",
    "        return 3\n",
    "    if key in ['e']:\n",
    "        return 4\n",
    "    if key in ['f']:\n",
    "        return 5\n",
    "    if key in ['fsharp','f#','gflat','gb']:\n",
    "        return 6\n",
    "    if key in ['g']:\n",
    "        return 7\n",
    "    if key in ['gsharp','g#','ab','aflat']:\n",
    "        return 8\n",
    "    if key in ['a']:\n",
    "        return 9\n",
    "    if key in ['asharp','a#','bflat','bb']:\n",
    "        return 10\n",
    "    if key in ['b']:\n",
    "        return 11\n",
    "    return "
   ]
  },
  {
   "cell_type": "code",
   "execution_count": 14,
   "metadata": {},
   "outputs": [],
   "source": [
    "dt = 0.000009\n",
    "t = np.arange(0,2,dt)\n",
    "fs = 1/dt\n",
    "\n",
    "def main(arpeggios=False):\n",
    "    \n",
    "    key = input('choose key (or relative major)').lower()\n",
    "    key = choose_key(key)\n",
    "    while True:\n",
    "        notes = input('enter input').lower()\n",
    "        if notes in ['exit','quit']:\n",
    "            break\n",
    "        freqs = make_chord(notes)\n",
    "        \n",
    "\n",
    "        if arpeggios:\n",
    "            sound = [0]\n",
    "            for i in freqs:\n",
    "                sound.extend(np.cos(1024*2**(key/12)*2**(i/12)*t[0:round(len(t)/len(freqs))]))\n",
    "        else:\n",
    "            sound = np.zeros(len(t))\n",
    "            for i in freqs:\n",
    "                sound = sound + np.cos(1024*2**(key/12)*2**(i/12)*t)\n",
    "        \n",
    "        sd.play(sound,fs)\n",
    "    \n",
    "main(True)"
   ]
  },
  {
   "cell_type": "code",
   "execution_count": 36,
   "metadata": {},
   "outputs": [
    {
     "name": "stdout",
     "output_type": "stream",
     "text": [
      "0\n",
      "5\n",
      "7\n",
      "[0]\n"
     ]
    },
    {
     "ename": "TypeError",
     "evalue": "Unsupported data type: 'int64'",
     "output_type": "error",
     "traceback": [
      "\u001b[0;31m---------------------------------------------------------------------------\u001b[0m",
      "\u001b[0;31mTypeError\u001b[0m                                 Traceback (most recent call last)",
      "\u001b[0;32m/var/folders/0q/69hkmkl92kz9w8868s5_p2100000gn/T/ipykernel_58542/493511802.py\u001b[0m in \u001b[0;36m<module>\u001b[0;34m\u001b[0m\n\u001b[1;32m     24\u001b[0m \u001b[0mloop\u001b[0m\u001b[0;34m(\u001b[0m\u001b[0;34m)\u001b[0m\u001b[0;34m\u001b[0m\u001b[0;34m\u001b[0m\u001b[0m\n\u001b[1;32m     25\u001b[0m \u001b[0mprint\u001b[0m\u001b[0;34m(\u001b[0m\u001b[0msound\u001b[0m\u001b[0;34m)\u001b[0m\u001b[0;34m\u001b[0m\u001b[0;34m\u001b[0m\u001b[0m\n\u001b[0;32m---> 26\u001b[0;31m \u001b[0msd\u001b[0m\u001b[0;34m.\u001b[0m\u001b[0mplay\u001b[0m\u001b[0;34m(\u001b[0m\u001b[0msound\u001b[0m\u001b[0;34m)\u001b[0m\u001b[0;34m\u001b[0m\u001b[0;34m\u001b[0m\u001b[0m\n\u001b[0m",
      "\u001b[0;32m~/opt/anaconda3/lib/python3.9/site-packages/sounddevice.py\u001b[0m in \u001b[0;36mplay\u001b[0;34m(data, samplerate, mapping, blocking, loop, **kwargs)\u001b[0m\n\u001b[1;32m    164\u001b[0m     \"\"\"\n\u001b[1;32m    165\u001b[0m     \u001b[0mctx\u001b[0m \u001b[0;34m=\u001b[0m \u001b[0m_CallbackContext\u001b[0m\u001b[0;34m(\u001b[0m\u001b[0mloop\u001b[0m\u001b[0;34m=\u001b[0m\u001b[0mloop\u001b[0m\u001b[0;34m)\u001b[0m\u001b[0;34m\u001b[0m\u001b[0;34m\u001b[0m\u001b[0m\n\u001b[0;32m--> 166\u001b[0;31m     \u001b[0mctx\u001b[0m\u001b[0;34m.\u001b[0m\u001b[0mframes\u001b[0m \u001b[0;34m=\u001b[0m \u001b[0mctx\u001b[0m\u001b[0;34m.\u001b[0m\u001b[0mcheck_data\u001b[0m\u001b[0;34m(\u001b[0m\u001b[0mdata\u001b[0m\u001b[0;34m,\u001b[0m \u001b[0mmapping\u001b[0m\u001b[0;34m,\u001b[0m \u001b[0mkwargs\u001b[0m\u001b[0;34m.\u001b[0m\u001b[0mget\u001b[0m\u001b[0;34m(\u001b[0m\u001b[0;34m'device'\u001b[0m\u001b[0;34m)\u001b[0m\u001b[0;34m)\u001b[0m\u001b[0;34m\u001b[0m\u001b[0;34m\u001b[0m\u001b[0m\n\u001b[0m\u001b[1;32m    167\u001b[0m \u001b[0;34m\u001b[0m\u001b[0m\n\u001b[1;32m    168\u001b[0m     \u001b[0;32mdef\u001b[0m \u001b[0mcallback\u001b[0m\u001b[0;34m(\u001b[0m\u001b[0moutdata\u001b[0m\u001b[0;34m,\u001b[0m \u001b[0mframes\u001b[0m\u001b[0;34m,\u001b[0m \u001b[0mtime\u001b[0m\u001b[0;34m,\u001b[0m \u001b[0mstatus\u001b[0m\u001b[0;34m)\u001b[0m\u001b[0;34m:\u001b[0m\u001b[0;34m\u001b[0m\u001b[0;34m\u001b[0m\u001b[0m\n",
      "\u001b[0;32m~/opt/anaconda3/lib/python3.9/site-packages/sounddevice.py\u001b[0m in \u001b[0;36mcheck_data\u001b[0;34m(self, data, mapping, device)\u001b[0m\n\u001b[1;32m   2470\u001b[0m                 'audio data to be played back must be one- or two-dimensional')\n\u001b[1;32m   2471\u001b[0m         \u001b[0mframes\u001b[0m\u001b[0;34m,\u001b[0m \u001b[0mchannels\u001b[0m \u001b[0;34m=\u001b[0m \u001b[0mdata\u001b[0m\u001b[0;34m.\u001b[0m\u001b[0mshape\u001b[0m\u001b[0;34m\u001b[0m\u001b[0;34m\u001b[0m\u001b[0m\n\u001b[0;32m-> 2472\u001b[0;31m         \u001b[0mdtype\u001b[0m \u001b[0;34m=\u001b[0m \u001b[0m_check_dtype\u001b[0m\u001b[0;34m(\u001b[0m\u001b[0mdata\u001b[0m\u001b[0;34m.\u001b[0m\u001b[0mdtype\u001b[0m\u001b[0;34m)\u001b[0m\u001b[0;34m\u001b[0m\u001b[0;34m\u001b[0m\u001b[0m\n\u001b[0m\u001b[1;32m   2473\u001b[0m         \u001b[0mmapping_is_explicit\u001b[0m \u001b[0;34m=\u001b[0m \u001b[0mmapping\u001b[0m \u001b[0;32mis\u001b[0m \u001b[0;32mnot\u001b[0m \u001b[0;32mNone\u001b[0m\u001b[0;34m\u001b[0m\u001b[0;34m\u001b[0m\u001b[0m\n\u001b[1;32m   2474\u001b[0m         \u001b[0mmapping\u001b[0m\u001b[0;34m,\u001b[0m \u001b[0mchannels\u001b[0m \u001b[0;34m=\u001b[0m \u001b[0m_check_mapping\u001b[0m\u001b[0;34m(\u001b[0m\u001b[0mmapping\u001b[0m\u001b[0;34m,\u001b[0m \u001b[0mchannels\u001b[0m\u001b[0;34m)\u001b[0m\u001b[0;34m\u001b[0m\u001b[0;34m\u001b[0m\u001b[0m\n",
      "\u001b[0;32m~/opt/anaconda3/lib/python3.9/site-packages/sounddevice.py\u001b[0m in \u001b[0;36m_check_dtype\u001b[0;34m(dtype)\u001b[0m\n\u001b[1;32m   2630\u001b[0m         \u001b[0mdtype\u001b[0m \u001b[0;34m=\u001b[0m \u001b[0;34m'float32'\u001b[0m\u001b[0;34m\u001b[0m\u001b[0;34m\u001b[0m\u001b[0m\n\u001b[1;32m   2631\u001b[0m     \u001b[0;32melse\u001b[0m\u001b[0;34m:\u001b[0m\u001b[0;34m\u001b[0m\u001b[0;34m\u001b[0m\u001b[0m\n\u001b[0;32m-> 2632\u001b[0;31m         \u001b[0;32mraise\u001b[0m \u001b[0mTypeError\u001b[0m\u001b[0;34m(\u001b[0m\u001b[0;34m'Unsupported data type: '\u001b[0m \u001b[0;34m+\u001b[0m \u001b[0mrepr\u001b[0m\u001b[0;34m(\u001b[0m\u001b[0mdtype\u001b[0m\u001b[0;34m)\u001b[0m\u001b[0;34m)\u001b[0m\u001b[0;34m\u001b[0m\u001b[0;34m\u001b[0m\u001b[0m\n\u001b[0m\u001b[1;32m   2633\u001b[0m     \u001b[0;32mreturn\u001b[0m \u001b[0mdtype\u001b[0m\u001b[0;34m\u001b[0m\u001b[0;34m\u001b[0m\u001b[0m\n\u001b[1;32m   2634\u001b[0m \u001b[0;34m\u001b[0m\u001b[0m\n",
      "\u001b[0;31mTypeError\u001b[0m: Unsupported data type: 'int64'"
     ]
    }
   ],
   "source": [
    "def loop():\n",
    "    chords = ['c-maj','f-maj7','g-maj','c-maj']\n",
    "\n",
    "    cho = []\n",
    "    var = []\n",
    "    for i in chords:\n",
    "        cho.append(i.split('-')[0])\n",
    "        var.append(i.split('-')[1])\n",
    "        bars = len(chords)\n",
    "        measure = 3\n",
    "    \n",
    "    \n",
    "    #while True:\n",
    "    sound = []\n",
    "    for item in range(1,bars):\n",
    "\n",
    "        key = choose_key(cho[item-1])\n",
    "        freqs = make_chord(var[item-1])\n",
    "        \n",
    "        for i in freqs:\n",
    "            sound.extend(np.cos(1024*2**(key/12)*2**(i/12)*t[0:round(len(t)/len(freqs))]))\n",
    "        print(key)\n",
    "sound = [00]\n",
    "loop()\n",
    "print(sound)\n",
    "sd.play(sound)"
   ]
  },
  {
   "cell_type": "markdown",
   "metadata": {},
   "source": [
    "\n",
    "note = 0\n",
    "while note != '':\n",
    "    notes = input('enter note(s)').split()\n",
    "    \n",
    "    index = int(0)\n",
    "    freq = [0, 0, 0, 0]\n",
    "    sound = np.zeros(len(t))\n",
    "    for note in notes:\n",
    "        if note == \"1\" or note == 'do':\n",
    "            tone = 0\n",
    "        elif note == '2' or note =='re':\n",
    "            tone = 2\n",
    "        elif note == '3' or note == 'mi':\n",
    "            tone = 4\n",
    "        elif note == '4' or note =='fa':\n",
    "            tone = 5\n",
    "        elif note == '5' or note == 'so':\n",
    "            tone = 7\n",
    "        elif note == '6' or note == 'la':\n",
    "            tone = 9\n",
    "        elif note == '7' or note=='ti':\n",
    "            tone = 11\n",
    "        elif note == '8' or note == 'do2':\n",
    "            tone = 12\n",
    "        elif note == 'quit' or note == 'exit':\n",
    "            raise 'done'\n",
    "        \n",
    "        if sum(freq)==0:\n",
    "            chord = True\n",
    "        \n",
    "        if chord:\n",
    "            freq = make_chord(notes[0])\n",
    "            print(notes[0])\n",
    "            print(freq)\n",
    "\n",
    "        freq[index] = 2000*2**(tone/12)\n",
    "        for i in range(len(freq)):\n",
    "            sound = sound + np.cos(freq[i]*t)\n",
    "            \n",
    "\n",
    "      \n",
    "    \n",
    "    \n",
    "    sd.play(sound,1/dt,loop=False, device= sd.default.device)\n",
    "    index +=1\n",
    "        \n",
    "\n",
    "sd.stop()"
   ]
  },
  {
   "cell_type": "code",
   "execution_count": null,
   "metadata": {},
   "outputs": [
    {
     "name": "stdout",
     "output_type": "stream",
     "text": [
      "true\n",
      "[1, 0, 0, 0]\n"
     ]
    }
   ],
   "source": [
    "notes = input('enter note(s)').split()\n",
    "for note in notes:\n",
    "    if note == '1':\n",
    "        print('true')\n",
    "\n",
    "freq = [0, 0, 0, 0]\n",
    "freq[0] = 1\n",
    "print(freq)"
   ]
  },
  {
   "cell_type": "code",
   "execution_count": 25,
   "metadata": {},
   "outputs": [
    {
     "data": {
      "text/plain": [
       "10"
      ]
     },
     "execution_count": 25,
     "metadata": {},
     "output_type": "execute_result"
    }
   ],
   "source": [
    "1"
   ]
  },
  {
   "cell_type": "code",
   "execution_count": null,
   "metadata": {},
   "outputs": [],
   "source": []
  }
 ],
 "metadata": {
  "kernelspec": {
   "display_name": "Python 3.9.7 ('base')",
   "language": "python",
   "name": "python3"
  },
  "language_info": {
   "codemirror_mode": {
    "name": "ipython",
    "version": 3
   },
   "file_extension": ".py",
   "mimetype": "text/x-python",
   "name": "python",
   "nbconvert_exporter": "python",
   "pygments_lexer": "ipython3",
   "version": "3.9.7"
  },
  "orig_nbformat": 4,
  "vscode": {
   "interpreter": {
    "hash": "dfbb6c1f642508dba2f41ddf73f698b0db114ee303e209f51867894750afe0e2"
   }
  }
 },
 "nbformat": 4,
 "nbformat_minor": 2
}
