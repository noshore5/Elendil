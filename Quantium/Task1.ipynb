{
 "cells": [
  {
   "cell_type": "code",
   "execution_count": 4,
   "metadata": {},
   "outputs": [],
   "source": [
    "\n",
    "# we were given transaction data as .xlsx\n",
    "# and purchase behavior as .csv\n",
    "import pandas as pd\n",
    "dataframe = pd.read_excel('QVI_transaction_data.xlsx')\n",
    "\n",
    "#print(type(dataframe))"
   ]
  },
  {
   "cell_type": "code",
   "execution_count": 5,
   "metadata": {},
   "outputs": [
    {
     "data": {
      "text/html": [
       "<div>\n",
       "<style scoped>\n",
       "    .dataframe tbody tr th:only-of-type {\n",
       "        vertical-align: middle;\n",
       "    }\n",
       "\n",
       "    .dataframe tbody tr th {\n",
       "        vertical-align: top;\n",
       "    }\n",
       "\n",
       "    .dataframe thead th {\n",
       "        text-align: right;\n",
       "    }\n",
       "</style>\n",
       "<table border=\"1\" class=\"dataframe\">\n",
       "  <thead>\n",
       "    <tr style=\"text-align: right;\">\n",
       "      <th></th>\n",
       "      <th>DATE</th>\n",
       "      <th>STORE_NBR</th>\n",
       "      <th>LYLTY_CARD_NBR</th>\n",
       "      <th>TXN_ID</th>\n",
       "      <th>PROD_NBR</th>\n",
       "      <th>PROD_NAME</th>\n",
       "      <th>PROD_QTY</th>\n",
       "      <th>TOT_SALES</th>\n",
       "    </tr>\n",
       "  </thead>\n",
       "  <tbody>\n",
       "    <tr>\n",
       "      <th>0</th>\n",
       "      <td>43390</td>\n",
       "      <td>1</td>\n",
       "      <td>1000</td>\n",
       "      <td>1</td>\n",
       "      <td>5</td>\n",
       "      <td>Natural Chip        Compny SeaSalt175g</td>\n",
       "      <td>2</td>\n",
       "      <td>6.0</td>\n",
       "    </tr>\n",
       "    <tr>\n",
       "      <th>1</th>\n",
       "      <td>43599</td>\n",
       "      <td>1</td>\n",
       "      <td>1307</td>\n",
       "      <td>348</td>\n",
       "      <td>66</td>\n",
       "      <td>CCs Nacho Cheese    175g</td>\n",
       "      <td>3</td>\n",
       "      <td>6.3</td>\n",
       "    </tr>\n",
       "    <tr>\n",
       "      <th>2</th>\n",
       "      <td>43605</td>\n",
       "      <td>1</td>\n",
       "      <td>1343</td>\n",
       "      <td>383</td>\n",
       "      <td>61</td>\n",
       "      <td>Smiths Crinkle Cut  Chips Chicken 170g</td>\n",
       "      <td>2</td>\n",
       "      <td>2.9</td>\n",
       "    </tr>\n",
       "    <tr>\n",
       "      <th>3</th>\n",
       "      <td>43329</td>\n",
       "      <td>2</td>\n",
       "      <td>2373</td>\n",
       "      <td>974</td>\n",
       "      <td>69</td>\n",
       "      <td>Smiths Chip Thinly  S/Cream&amp;Onion 175g</td>\n",
       "      <td>5</td>\n",
       "      <td>15.0</td>\n",
       "    </tr>\n",
       "    <tr>\n",
       "      <th>4</th>\n",
       "      <td>43330</td>\n",
       "      <td>2</td>\n",
       "      <td>2426</td>\n",
       "      <td>1038</td>\n",
       "      <td>108</td>\n",
       "      <td>Kettle Tortilla ChpsHny&amp;Jlpno Chili 150g</td>\n",
       "      <td>3</td>\n",
       "      <td>13.8</td>\n",
       "    </tr>\n",
       "  </tbody>\n",
       "</table>\n",
       "</div>"
      ],
      "text/plain": [
       "    DATE  STORE_NBR  LYLTY_CARD_NBR  TXN_ID  PROD_NBR  \\\n",
       "0  43390          1            1000       1         5   \n",
       "1  43599          1            1307     348        66   \n",
       "2  43605          1            1343     383        61   \n",
       "3  43329          2            2373     974        69   \n",
       "4  43330          2            2426    1038       108   \n",
       "\n",
       "                                  PROD_NAME  PROD_QTY  TOT_SALES  \n",
       "0    Natural Chip        Compny SeaSalt175g         2        6.0  \n",
       "1                  CCs Nacho Cheese    175g         3        6.3  \n",
       "2    Smiths Crinkle Cut  Chips Chicken 170g         2        2.9  \n",
       "3    Smiths Chip Thinly  S/Cream&Onion 175g         5       15.0  \n",
       "4  Kettle Tortilla ChpsHny&Jlpno Chili 150g         3       13.8  "
      ]
     },
     "execution_count": 5,
     "metadata": {},
     "output_type": "execute_result"
    }
   ],
   "source": [
    "import numpy as np\n",
    "import scipy as stats\n",
    "type(dataframe.STORE_NBR)\n",
    "dataframe.head(5)\n",
    "#visualize the first 5 rows "
   ]
  },
  {
   "cell_type": "code",
   "execution_count": 6,
   "metadata": {},
   "outputs": [],
   "source": [
    "dataframe.describe()\n",
    "#expected numeric columns are in numeric form\n",
    "# need to check date columns \n",
    "dataframe['DATE'] = pd.to_datetime(dataframe.DATE,origin=\"1899-12-30\",unit='D')\n",
    "# this converts the integer dates to pandas timestamps"
   ]
  },
  {
   "cell_type": "code",
   "execution_count": 7,
   "metadata": {},
   "outputs": [
    {
     "name": "stdout",
     "output_type": "stream",
     "text": [
      "[('Chips', 49770), ('Kettle', 41288), ('Smiths', 28860), ('Salt', 27976), ('Cheese', 27890), ('Pringles', 25102), ('Doritos', 24962), ('Crinkle', 23960), ('Corn', 22063), ('Original', 21560), ('Cut', 20754), ('Chip', 18645), ('Salsa', 18094), ('Chicken', 15407), ('Sea', 14145), ('Thins', 14075), ('Sour', 13882), ('Crisps', 12607), ('Vinegar', 12402), ('Chilli', 12389), ('RRD', 11894), ('Infuzions', 11057), ('Supreme', 10963), ('WW', 10320), ('Popd', 9693), ('Cobs', 9693), ('Tortilla', 9580), ('Tostitos', 9471), ('Twisties', 9454), ('Sensations', 9429), ('Dip', 9324), ('Paso', 9324), ('El', 9324), ('Old', 9324), ('Sweet', 7883), ('Lime', 7852), ('Tomato', 7669), ('Cream', 7618), ('Thinly', 7507), ('Tyrrells', 6442), ('And', 6373), ('BBQ', 6351), ('Tangy', 6332), ('Waves', 6272), ('Grain', 6272), ('Salted', 6248), ('Lightly', 6248), ('Soy', 6121), ('Natural', 6050), ('Mild', 6048), ('Deli', 5885), ('Rock', 5885), ('Red', 5885), ('Thai', 4737), ('Burger', 4733), ('Swt', 4718), ('Chives', 4687), ('Honey', 4661), ('Nacho', 4658), ('Potato', 4647), ('Cheezels', 4603), ('CCs', 4551), ('Woolworths', 4437), ('Pesto', 3304), ('Basil', 3304), ('Mozzarella', 3304), ('Chili', 3296), ('ChpsHny&Jlpno', 3296), ('&Sr/Cream', 3269), ('Swt/Chlli', 3269), ('Ched', 3268), ('Pot', 3257), ('Of', 3252), ('Splash', 3252), ('PotatoMix', 3242), ('SweetChili', 3242), ('Bag', 3233), ('Big', 3233), ('Orgnl', 3233), ('Crnkle', 3233), ('Spicy', 3229), ('Hot', 3229), ('Fig', 3219), ('Camembert', 3219), ('Barbeque', 3210), ('Jalapeno', 3204), ('Mexican', 3204), ('Light&', 3188), ('Chp', 3185), ('Dorito', 3185), ('Sweet&Spcy', 3177), ('Crackers', 3174), ('Prawn', 3174), ('Rib', 3174), ('Southern', 3172), ('Onion', 3162), ('SourCream', 3162), ('&Chives', 3159), ('Crm', 3159), ('ChpsBtroot&Ricotta', 3146), ('Chipotle', 3145), ('Smoked', 3145), ('Gcamole', 3144), ('Crnchers', 3144), ('Crn', 3144), ('Infzns', 3144), ('ChpsFeta&Garlic', 3138), ('Strws', 3134), ('Veg', 3134), ('SourCream&Herbs', 3134), ('Siracha', 3127), ('Tom', 3125), ('Chnky', 3125), ('Mexicana', 3115), ('Flavour', 3114), ('Mystery', 3114), ('Med', 3114), ('Seasonedchicken', 3114), ('Cream&Chives', 3105), ('Crips', 3104), ('Vingar', 3095), ('Slt', 3095), ('BBQ&Maple', 3083), ('FriedChicken', 3083), ('Sthrn', 3083), ('Rings', 3080), ('ChipCo', 3010), ('SR', 2984), ('Smith', 2963), ('Cheetos', 2927), ('Medium', 2879), ('French', 2856), ('Cheddr&Mstrd', 1576), ('Whlgrn', 1576), ('Snbts', 1576), ('Hrb&Spce', 1572), ('Tmato', 1572), ('Co', 1572), ('Vinegr', 1550), ('Tasty', 1539), ('Belly', 1526), ('Pork', 1526), ('Rst', 1526), ('Slow', 1526), ('Roast', 1519), ('N', 1512), ('Mac', 1512), ('Papadums', 1507), ('Chutny', 1507), ('Mango', 1507), ('Coconut', 1506), ('Chilli&', 1506), ('Snag&Sauce', 1503), ('Truffle', 1498), ('Sp', 1498), ('Chilli&Lime', 1495), ('Barbecue', 1489), ('Stacked', 1487), ('&OnionStacked', 1483), ('Balls', 1479), ('Bacon', 1479), ('Chs', 1479), ('Pepper', 1473), ('S/Cream&Onion', 1473), ('D/Style', 1469), ('Jam', 1468), ('Btroot', 1468), ('Plus', 1468), ('GrnWves', 1468), ('Compny', 1468), ('Hony', 1460), ('Mzzrlla', 1458), ('Chimuchurri', 1455), ('Steak', 1455), ('Box', 1454), ('Bolognese', 1451), ('Puffs', 1448), ('saltd', 1441), ('Originl', 1441), ('OnionDip', 1438), ('Aioli', 1434), ('Chikn&Garlic', 1434), ('Frch/Onin', 1432), ('Whlegrn', 1432), ('Sunbites', 1432), ('Pc', 1431), ('Garden', 1419), ('NCC', 1419), ('Fries', 1418)]\n"
     ]
    }
   ],
   "source": [
    "# now, we need to summerize the PROD_NAME column\n",
    "\n",
    "names = dataframe.PROD_NAME.tolist()\n",
    "words = []\n",
    "for name in names:\n",
    "    id = 0\n",
    "    words.append(name.split(\" \"))\n",
    "    id +=1\n",
    "\n",
    "prod_names = []\n",
    "for entry in words:\n",
    "    count = 0\n",
    "    while '' in entry:\n",
    "        entry.remove('')\n",
    "    while '&' in entry:\n",
    "        entry.remove('&')\n",
    "\n",
    "    entry = [x for x in entry if all(y not in x for y in '1234567890')]\n",
    "    prod_names.append(entry)\n",
    "\n",
    "\n",
    "# at this point we should have all the words cleaned out \n",
    "wordfreq = {}\n",
    "for prod in prod_names:\n",
    "    for word in prod:\n",
    "        if word not in wordfreq:\n",
    "            wordfreq[word] = 0\n",
    "        wordfreq[word] += 1\n",
    "words = sorted(wordfreq.items(), key=lambda item: item[1])\n",
    "words.reverse()\n",
    "print(words)\n",
    "#now we have a sorted list of tuples that show us the most popular words"
   ]
  },
  {
   "cell_type": "code",
   "execution_count": 9,
   "metadata": {},
   "outputs": [],
   "source": [
    "df2 = dataframe.copy()"
   ]
  },
  {
   "cell_type": "code",
   "execution_count": 10,
   "metadata": {},
   "outputs": [
    {
     "data": {
      "text/html": [
       "<div>\n",
       "<style scoped>\n",
       "    .dataframe tbody tr th:only-of-type {\n",
       "        vertical-align: middle;\n",
       "    }\n",
       "\n",
       "    .dataframe tbody tr th {\n",
       "        vertical-align: top;\n",
       "    }\n",
       "\n",
       "    .dataframe thead th {\n",
       "        text-align: right;\n",
       "    }\n",
       "</style>\n",
       "<table border=\"1\" class=\"dataframe\">\n",
       "  <thead>\n",
       "    <tr style=\"text-align: right;\">\n",
       "      <th></th>\n",
       "      <th>STORE_NBR</th>\n",
       "      <th>LYLTY_CARD_NBR</th>\n",
       "      <th>TXN_ID</th>\n",
       "      <th>PROD_NBR</th>\n",
       "      <th>PROD_QTY</th>\n",
       "      <th>TOT_SALES</th>\n",
       "    </tr>\n",
       "  </thead>\n",
       "  <tbody>\n",
       "    <tr>\n",
       "      <th>count</th>\n",
       "      <td>246742.000000</td>\n",
       "      <td>2.467420e+05</td>\n",
       "      <td>2.467420e+05</td>\n",
       "      <td>246742.000000</td>\n",
       "      <td>246742.000000</td>\n",
       "      <td>246742.000000</td>\n",
       "    </tr>\n",
       "    <tr>\n",
       "      <th>mean</th>\n",
       "      <td>135.051098</td>\n",
       "      <td>1.355310e+05</td>\n",
       "      <td>1.351311e+05</td>\n",
       "      <td>56.351789</td>\n",
       "      <td>1.908062</td>\n",
       "      <td>7.321322</td>\n",
       "    </tr>\n",
       "    <tr>\n",
       "      <th>std</th>\n",
       "      <td>76.787096</td>\n",
       "      <td>8.071528e+04</td>\n",
       "      <td>7.814772e+04</td>\n",
       "      <td>33.695428</td>\n",
       "      <td>0.659831</td>\n",
       "      <td>3.077828</td>\n",
       "    </tr>\n",
       "    <tr>\n",
       "      <th>min</th>\n",
       "      <td>1.000000</td>\n",
       "      <td>1.000000e+03</td>\n",
       "      <td>1.000000e+00</td>\n",
       "      <td>1.000000</td>\n",
       "      <td>1.000000</td>\n",
       "      <td>1.700000</td>\n",
       "    </tr>\n",
       "    <tr>\n",
       "      <th>25%</th>\n",
       "      <td>70.000000</td>\n",
       "      <td>7.001500e+04</td>\n",
       "      <td>6.756925e+04</td>\n",
       "      <td>26.000000</td>\n",
       "      <td>2.000000</td>\n",
       "      <td>5.800000</td>\n",
       "    </tr>\n",
       "    <tr>\n",
       "      <th>50%</th>\n",
       "      <td>130.000000</td>\n",
       "      <td>1.303670e+05</td>\n",
       "      <td>1.351830e+05</td>\n",
       "      <td>53.000000</td>\n",
       "      <td>2.000000</td>\n",
       "      <td>7.400000</td>\n",
       "    </tr>\n",
       "    <tr>\n",
       "      <th>75%</th>\n",
       "      <td>203.000000</td>\n",
       "      <td>2.030840e+05</td>\n",
       "      <td>2.026538e+05</td>\n",
       "      <td>87.000000</td>\n",
       "      <td>2.000000</td>\n",
       "      <td>8.800000</td>\n",
       "    </tr>\n",
       "    <tr>\n",
       "      <th>max</th>\n",
       "      <td>272.000000</td>\n",
       "      <td>2.373711e+06</td>\n",
       "      <td>2.415841e+06</td>\n",
       "      <td>114.000000</td>\n",
       "      <td>200.000000</td>\n",
       "      <td>650.000000</td>\n",
       "    </tr>\n",
       "  </tbody>\n",
       "</table>\n",
       "</div>"
      ],
      "text/plain": [
       "           STORE_NBR  LYLTY_CARD_NBR        TXN_ID       PROD_NBR  \\\n",
       "count  246742.000000    2.467420e+05  2.467420e+05  246742.000000   \n",
       "mean      135.051098    1.355310e+05  1.351311e+05      56.351789   \n",
       "std        76.787096    8.071528e+04  7.814772e+04      33.695428   \n",
       "min         1.000000    1.000000e+03  1.000000e+00       1.000000   \n",
       "25%        70.000000    7.001500e+04  6.756925e+04      26.000000   \n",
       "50%       130.000000    1.303670e+05  1.351830e+05      53.000000   \n",
       "75%       203.000000    2.030840e+05  2.026538e+05      87.000000   \n",
       "max       272.000000    2.373711e+06  2.415841e+06     114.000000   \n",
       "\n",
       "            PROD_QTY      TOT_SALES  \n",
       "count  246742.000000  246742.000000  \n",
       "mean        1.908062       7.321322  \n",
       "std         0.659831       3.077828  \n",
       "min         1.000000       1.700000  \n",
       "25%         2.000000       5.800000  \n",
       "50%         2.000000       7.400000  \n",
       "75%         2.000000       8.800000  \n",
       "max       200.000000     650.000000  "
      ]
     },
     "execution_count": 10,
     "metadata": {},
     "output_type": "execute_result"
    }
   ],
   "source": [
    "# now, we must clean out the salsa products\n",
    "#chips_only = pd.DataFrame(columns = dataframe.columns)\n",
    "df2 = dataframe.copy()\n",
    "for index, row in dataframe.iterrows():\n",
    "    if 'salsa' in row['PROD_NAME'].lower():\n",
    "        \n",
    "        dataframe.drop(index,inplace=True)\n",
    " \n",
    "dataframe.describe()\n",
    "# looks like we removed products with the word 'salsa'\n",
    "# loop takes five minutes to run ???"
   ]
  },
  {
   "cell_type": "code",
   "execution_count": 11,
   "metadata": {},
   "outputs": [
    {
     "data": {
      "text/html": [
       "<div>\n",
       "<style scoped>\n",
       "    .dataframe tbody tr th:only-of-type {\n",
       "        vertical-align: middle;\n",
       "    }\n",
       "\n",
       "    .dataframe tbody tr th {\n",
       "        vertical-align: top;\n",
       "    }\n",
       "\n",
       "    .dataframe thead th {\n",
       "        text-align: right;\n",
       "    }\n",
       "</style>\n",
       "<table border=\"1\" class=\"dataframe\">\n",
       "  <thead>\n",
       "    <tr style=\"text-align: right;\">\n",
       "      <th></th>\n",
       "      <th>STORE_NBR</th>\n",
       "      <th>LYLTY_CARD_NBR</th>\n",
       "      <th>TXN_ID</th>\n",
       "      <th>PROD_NBR</th>\n",
       "      <th>PROD_QTY</th>\n",
       "      <th>TOT_SALES</th>\n",
       "    </tr>\n",
       "  </thead>\n",
       "  <tbody>\n",
       "    <tr>\n",
       "      <th>count</th>\n",
       "      <td>264834.000000</td>\n",
       "      <td>2.648340e+05</td>\n",
       "      <td>2.648340e+05</td>\n",
       "      <td>264834.000000</td>\n",
       "      <td>264834.000000</td>\n",
       "      <td>264834.000000</td>\n",
       "    </tr>\n",
       "    <tr>\n",
       "      <th>mean</th>\n",
       "      <td>135.079423</td>\n",
       "      <td>1.355488e+05</td>\n",
       "      <td>1.351576e+05</td>\n",
       "      <td>56.583554</td>\n",
       "      <td>1.905813</td>\n",
       "      <td>7.299346</td>\n",
       "    </tr>\n",
       "    <tr>\n",
       "      <th>std</th>\n",
       "      <td>76.784063</td>\n",
       "      <td>8.057990e+04</td>\n",
       "      <td>7.813292e+04</td>\n",
       "      <td>32.826444</td>\n",
       "      <td>0.343436</td>\n",
       "      <td>2.527241</td>\n",
       "    </tr>\n",
       "    <tr>\n",
       "      <th>min</th>\n",
       "      <td>1.000000</td>\n",
       "      <td>1.000000e+03</td>\n",
       "      <td>1.000000e+00</td>\n",
       "      <td>1.000000</td>\n",
       "      <td>1.000000</td>\n",
       "      <td>1.500000</td>\n",
       "    </tr>\n",
       "    <tr>\n",
       "      <th>25%</th>\n",
       "      <td>70.000000</td>\n",
       "      <td>7.002100e+04</td>\n",
       "      <td>6.760050e+04</td>\n",
       "      <td>28.000000</td>\n",
       "      <td>2.000000</td>\n",
       "      <td>5.400000</td>\n",
       "    </tr>\n",
       "    <tr>\n",
       "      <th>50%</th>\n",
       "      <td>130.000000</td>\n",
       "      <td>1.303570e+05</td>\n",
       "      <td>1.351365e+05</td>\n",
       "      <td>56.000000</td>\n",
       "      <td>2.000000</td>\n",
       "      <td>7.400000</td>\n",
       "    </tr>\n",
       "    <tr>\n",
       "      <th>75%</th>\n",
       "      <td>203.000000</td>\n",
       "      <td>2.030940e+05</td>\n",
       "      <td>2.026998e+05</td>\n",
       "      <td>85.000000</td>\n",
       "      <td>2.000000</td>\n",
       "      <td>9.200000</td>\n",
       "    </tr>\n",
       "    <tr>\n",
       "      <th>max</th>\n",
       "      <td>272.000000</td>\n",
       "      <td>2.373711e+06</td>\n",
       "      <td>2.415841e+06</td>\n",
       "      <td>114.000000</td>\n",
       "      <td>5.000000</td>\n",
       "      <td>29.500000</td>\n",
       "    </tr>\n",
       "  </tbody>\n",
       "</table>\n",
       "</div>"
      ],
      "text/plain": [
       "           STORE_NBR  LYLTY_CARD_NBR        TXN_ID       PROD_NBR  \\\n",
       "count  264834.000000    2.648340e+05  2.648340e+05  264834.000000   \n",
       "mean      135.079423    1.355488e+05  1.351576e+05      56.583554   \n",
       "std        76.784063    8.057990e+04  7.813292e+04      32.826444   \n",
       "min         1.000000    1.000000e+03  1.000000e+00       1.000000   \n",
       "25%        70.000000    7.002100e+04  6.760050e+04      28.000000   \n",
       "50%       130.000000    1.303570e+05  1.351365e+05      56.000000   \n",
       "75%       203.000000    2.030940e+05  2.026998e+05      85.000000   \n",
       "max       272.000000    2.373711e+06  2.415841e+06     114.000000   \n",
       "\n",
       "            PROD_QTY      TOT_SALES  \n",
       "count  264834.000000  264834.000000  \n",
       "mean        1.905813       7.299346  \n",
       "std         0.343436       2.527241  \n",
       "min         1.000000       1.500000  \n",
       "25%         2.000000       5.400000  \n",
       "50%         2.000000       7.400000  \n",
       "75%         2.000000       9.200000  \n",
       "max         5.000000      29.500000  "
      ]
     },
     "execution_count": 11,
     "metadata": {},
     "output_type": "execute_result"
    }
   ],
   "source": [
    "# now we need to remove outlier transactions\n",
    "# find index of outlier and remove all transactions with that loyalty card number\n",
    "\n",
    "def remove_outliers(df):\n",
    "    flagged_ids = []\n",
    "    for index, row in df.iterrows():\n",
    "        if row['PROD_QTY'] > 100:\n",
    "            flagged_ids.append(row['LYLTY_CARD_NBR'])\n",
    "            \n",
    "    for index, row in df.iterrows():\n",
    "        if row['LYLTY_CARD_NBR'] in flagged_ids:\n",
    "            df.drop(index,inplace=True)\n",
    "            \n",
    "    \n",
    "\n",
    "remove_outliers(df2)\n",
    "df2.describe()\n",
    "# now we can see that function should remove outliers, \n",
    "# and remove any transactions attached to the same loyalty card numbers"
   ]
  },
  {
   "cell_type": "code",
   "execution_count": 12,
   "metadata": {},
   "outputs": [
    {
     "name": "stdout",
     "output_type": "stream",
     "text": [
      "            count\n",
      "DATE             \n",
      "2018-07-01    724\n",
      "2018-07-02    711\n",
      "2018-07-03    722\n",
      "2018-07-04    714\n",
      "2018-07-05    712\n",
      "...           ...\n",
      "2019-06-26    723\n",
      "2019-06-27    709\n",
      "2019-06-28    730\n",
      "2019-06-29    745\n",
      "2019-06-30    744\n",
      "\n",
      "[364 rows x 1 columns]\n"
     ]
    }
   ],
   "source": [
    "# now, we need to create a sequence of dates, \n",
    "df3 = df2.copy()\n",
    "def sequence_dates(df):\n",
    "    dates = df.groupby(df['DATE']).agg({'count'})\n",
    "    return dates\n",
    "    \n",
    "print(sequence_dates(df2).STORE_NBR)\n",
    "# as expected, we only get 364 days, suggesting that we are missing a day. \n",
    "        "
   ]
  },
  {
   "cell_type": "code",
   "execution_count": 13,
   "metadata": {},
   "outputs": [
    {
     "name": "stdout",
     "output_type": "stream",
     "text": [
      "            count\n",
      "index            \n",
      "2018-12-23  917.0\n",
      "2018-12-24  939.0\n",
      "2018-12-25    NaN\n",
      "2018-12-26  753.0\n",
      "2018-12-27  732.0\n",
      "2018-12-28  720.0\n",
      "2018-12-29  706.0\n",
      "2018-12-30  747.0\n",
      "2018-12-31  708.0\n",
      "2019-01-01  686.0\n",
      "2019-01-02  722.0\n",
      "2019-01-03  672.0\n",
      "2019-01-04  747.0\n",
      "2019-01-05  697.0\n",
      "2019-01-06  731.0\n"
     ]
    },
    {
     "data": {
      "image/png": "[encoded data removed]",
      "text/plain": [
       "<Figure size 432x288 with 1 Axes>"
      ]
     },
     "metadata": {
      "needs_background": "light"
     },
     "output_type": "display_data"
    }
   ],
   "source": [
    "import matplotlib.pyplot as plt\n",
    "dates = pd.date_range(start='7/1/2018',end ='6/30/2019')\n",
    "#print(dates)\n",
    "zeros = pd.DataFrame(np.zeros(len(dates)),index = dates)\n",
    "counts = pd.concat((zeros,sequence_dates(df3).STORE_NBR)).reset_index().drop_duplicates(subset=['index'], keep='last').set_index('index').sort_index()\n",
    "counts.drop(0,axis=1, inplace=True)\n",
    "#print(counts)\n",
    "plt.bar(dates,counts['count'])\n",
    "print(counts.iloc[175:190])\n",
    "\n",
    "# we can see there is no entry for 12/25, stores are closed on christmas\n"
   ]
  },
  {
   "cell_type": "code",
   "execution_count": 14,
   "metadata": {},
   "outputs": [
    {
     "data": {
      "text/plain": [
       "<BarContainer object of 20 artists>"
      ]
     },
     "execution_count": 14,
     "metadata": {},
     "output_type": "execute_result"
    },
    {
     "data": {
      "image/png": "[encoded data removed]",
      "text/plain": [
       "<Figure size 432x288 with 1 Axes>"
      ]
     },
     "metadata": {
      "needs_background": "light"
     },
     "output_type": "display_data"
    }
   ],
   "source": [
    "# now lets zoom in on december\n",
    "plt.bar(dates[170:190],counts['count'][170:190])\n",
    "# thats crazy "
   ]
  },
  {
   "cell_type": "code",
   "execution_count": 15,
   "metadata": {},
   "outputs": [
    {
     "data": {
      "text/html": [
       "<div>\n",
       "<style scoped>\n",
       "    .dataframe tbody tr th:only-of-type {\n",
       "        vertical-align: middle;\n",
       "    }\n",
       "\n",
       "    .dataframe tbody tr th {\n",
       "        vertical-align: top;\n",
       "    }\n",
       "\n",
       "    .dataframe thead th {\n",
       "        text-align: right;\n",
       "    }\n",
       "</style>\n",
       "<table border=\"1\" class=\"dataframe\">\n",
       "  <thead>\n",
       "    <tr style=\"text-align: right;\">\n",
       "      <th></th>\n",
       "      <th>STORE_NBR</th>\n",
       "      <th>LYLTY_CARD_NBR</th>\n",
       "      <th>TXN_ID</th>\n",
       "      <th>PROD_NBR</th>\n",
       "      <th>PACK_SIZE</th>\n",
       "      <th>PROD_QTY</th>\n",
       "      <th>TOT_SALES</th>\n",
       "    </tr>\n",
       "  </thead>\n",
       "  <tbody>\n",
       "    <tr>\n",
       "      <th>count</th>\n",
       "      <td>264834.000000</td>\n",
       "      <td>2.648340e+05</td>\n",
       "      <td>2.648340e+05</td>\n",
       "      <td>264834.000000</td>\n",
       "      <td>264834.000000</td>\n",
       "      <td>264834.000000</td>\n",
       "      <td>264834.000000</td>\n",
       "    </tr>\n",
       "    <tr>\n",
       "      <th>mean</th>\n",
       "      <td>135.079423</td>\n",
       "      <td>1.355488e+05</td>\n",
       "      <td>1.351576e+05</td>\n",
       "      <td>56.583554</td>\n",
       "      <td>182.425512</td>\n",
       "      <td>1.905813</td>\n",
       "      <td>7.299346</td>\n",
       "    </tr>\n",
       "    <tr>\n",
       "      <th>std</th>\n",
       "      <td>76.784063</td>\n",
       "      <td>8.057990e+04</td>\n",
       "      <td>7.813292e+04</td>\n",
       "      <td>32.826444</td>\n",
       "      <td>64.325148</td>\n",
       "      <td>0.343436</td>\n",
       "      <td>2.527241</td>\n",
       "    </tr>\n",
       "    <tr>\n",
       "      <th>min</th>\n",
       "      <td>1.000000</td>\n",
       "      <td>1.000000e+03</td>\n",
       "      <td>1.000000e+00</td>\n",
       "      <td>1.000000</td>\n",
       "      <td>70.000000</td>\n",
       "      <td>1.000000</td>\n",
       "      <td>1.500000</td>\n",
       "    </tr>\n",
       "    <tr>\n",
       "      <th>25%</th>\n",
       "      <td>70.000000</td>\n",
       "      <td>7.002100e+04</td>\n",
       "      <td>6.760050e+04</td>\n",
       "      <td>28.000000</td>\n",
       "      <td>150.000000</td>\n",
       "      <td>2.000000</td>\n",
       "      <td>5.400000</td>\n",
       "    </tr>\n",
       "    <tr>\n",
       "      <th>50%</th>\n",
       "      <td>130.000000</td>\n",
       "      <td>1.303570e+05</td>\n",
       "      <td>1.351365e+05</td>\n",
       "      <td>56.000000</td>\n",
       "      <td>170.000000</td>\n",
       "      <td>2.000000</td>\n",
       "      <td>7.400000</td>\n",
       "    </tr>\n",
       "    <tr>\n",
       "      <th>75%</th>\n",
       "      <td>203.000000</td>\n",
       "      <td>2.030940e+05</td>\n",
       "      <td>2.026998e+05</td>\n",
       "      <td>85.000000</td>\n",
       "      <td>175.000000</td>\n",
       "      <td>2.000000</td>\n",
       "      <td>9.200000</td>\n",
       "    </tr>\n",
       "    <tr>\n",
       "      <th>max</th>\n",
       "      <td>272.000000</td>\n",
       "      <td>2.373711e+06</td>\n",
       "      <td>2.415841e+06</td>\n",
       "      <td>114.000000</td>\n",
       "      <td>380.000000</td>\n",
       "      <td>5.000000</td>\n",
       "      <td>29.500000</td>\n",
       "    </tr>\n",
       "  </tbody>\n",
       "</table>\n",
       "</div>"
      ],
      "text/plain": [
       "           STORE_NBR  LYLTY_CARD_NBR        TXN_ID       PROD_NBR  \\\n",
       "count  264834.000000    2.648340e+05  2.648340e+05  264834.000000   \n",
       "mean      135.079423    1.355488e+05  1.351576e+05      56.583554   \n",
       "std        76.784063    8.057990e+04  7.813292e+04      32.826444   \n",
       "min         1.000000    1.000000e+03  1.000000e+00       1.000000   \n",
       "25%        70.000000    7.002100e+04  6.760050e+04      28.000000   \n",
       "50%       130.000000    1.303570e+05  1.351365e+05      56.000000   \n",
       "75%       203.000000    2.030940e+05  2.026998e+05      85.000000   \n",
       "max       272.000000    2.373711e+06  2.415841e+06     114.000000   \n",
       "\n",
       "           PACK_SIZE       PROD_QTY      TOT_SALES  \n",
       "count  264834.000000  264834.000000  264834.000000  \n",
       "mean      182.425512       1.905813       7.299346  \n",
       "std        64.325148       0.343436       2.527241  \n",
       "min        70.000000       1.000000       1.500000  \n",
       "25%       150.000000       2.000000       5.400000  \n",
       "50%       170.000000       2.000000       7.400000  \n",
       "75%       175.000000       2.000000       9.200000  \n",
       "max       380.000000       5.000000      29.500000  "
      ]
     },
     "execution_count": 15,
     "metadata": {},
     "output_type": "execute_result"
    }
   ],
   "source": [
    "# now, we want to organize the data by pack size\n",
    "import re\n",
    "transaction_data = df2.copy()\n",
    "def pull_pack_size(df):\n",
    "    names = df.PROD_NAME\n",
    "    pack_sizes = []\n",
    "    for name in names:\n",
    "        pack_sizes.append(re.findall(r'\\d+', name))\n",
    "\n",
    "    pack_sizes=[int(pack_sizes[i][0]) for i in range(0,len(pack_sizes))]\n",
    "    \n",
    "    df.insert(6,\"PACK_SIZE\",pack_sizes,True)\n",
    "\n",
    "pull_pack_size(transaction_data)\n",
    "transaction_data.head()\n",
    "transaction_data.describe()\n",
    "# Now, we have a new column, PACK_SIZE\n",
    "# looks good, the smallest pack is 70 g and the largest is 380 g\n"
   ]
  },
  {
   "cell_type": "code",
   "execution_count": 16,
   "metadata": {},
   "outputs": [
    {
     "data": {
      "text/plain": [
       "(array([  4515.,  23841.,  74460., 106133.,  12309.,   3169.,   6285.,\n",
       "         15166.,  12540.,   6416.]),\n",
       " array([ 70., 101., 132., 163., 194., 225., 256., 287., 318., 349., 380.]),\n",
       " <BarContainer object of 10 artists>)"
      ]
     },
     "execution_count": 16,
     "metadata": {},
     "output_type": "execute_result"
    },
    {
     "data": {
      "image/png": "[encoded data removed]",
      "text/plain": [
       "<Figure size 432x288 with 1 Axes>"
      ]
     },
     "metadata": {
      "needs_background": "light"
     },
     "output_type": "display_data"
    }
   ],
   "source": [
    "# now lets plot a histogram of PACK_SIZE\n",
    "plt.hist(transaction_data.PACK_SIZE)\n",
    "# this should show the number of transactions by pack size"
   ]
  },
  {
   "cell_type": "code",
   "execution_count": 17,
   "metadata": {},
   "outputs": [],
   "source": [
    "transaction_data['BRAND'] = transaction_data['PROD_NAME'].map(lambda PROD_NAME: PROD_NAME.split()[0])\n",
    "column = transaction_data.pop('BRAND')\n",
    "transaction_data.insert(5,\"BRAND\",column)\n",
    "for index, row in transaction_data.iterrows():\n",
    "    if row['BRAND'].lower() == 'red':\n",
    "        transaction_data.at[index,'BRAND'] = 'RRD'\n",
    "        \n",
    "    if row['BRAND'].lower() == 'natural':\n",
    "        transaction_data.at[index,'BRAND'] = 'NCC'\n",
    "    \n",
    "    if row['BRAND'].lower() == 'dorito':\n",
    "        transaction_data.at[index,'BRAND'] = 'Doritos'\n",
    "\n",
    "    if row['BRAND'].lower() == 'infzns':\n",
    "        transaction_data.at[index,'BRAND'] = 'Infuzions'\n",
    "\n",
    "    if row['BRAND'].lower() in ['grain','grnwves','snbts']:\n",
    "        transaction_data.at[index,'BRAND'] = 'Sunbites'\n",
    "    \n",
    "    if row['BRAND'].lower() == 'ww':\n",
    "        transaction_data.at[index,'BRAND'] = 'Woolworths'\n",
    "\n",
    "    if row['BRAND'].lower() in ['smith','burger']:\n",
    "        transaction_data.at[index,'BRAND'] = 'Smiths'\n",
    "\n",
    "# this code will clean up the brand names to make sure they are consistent"
   ]
  },
  {
   "cell_type": "code",
   "execution_count": 18,
   "metadata": {},
   "outputs": [
    {
     "data": {
      "text/plain": [
       "[('Kettle', 41288),\n",
       " ('Smiths', 33387),\n",
       " ('Doritos', 28145),\n",
       " ('Pringles', 25102),\n",
       " ('RRD', 17779),\n",
       " ('Woolworths', 14757),\n",
       " ('Infuzions', 14201),\n",
       " ('Thins', 14075),\n",
       " ('Sunbites', 10748),\n",
       " ('Cobs', 9693),\n",
       " ('Tostitos', 9471),\n",
       " ('Twisties', 9454),\n",
       " ('Old', 9324),\n",
       " ('NCC', 7469),\n",
       " ('Tyrrells', 6442),\n",
       " ('Cheezels', 4603),\n",
       " ('CCs', 4551),\n",
       " ('Cheetos', 2927),\n",
       " ('French', 1418)]"
      ]
     },
     "execution_count": 18,
     "metadata": {},
     "output_type": "execute_result"
    }
   ],
   "source": [
    "brandfreq = {}\n",
    "for brand in transaction_data['BRAND']:\n",
    "    \n",
    "    if brand not in brandfreq:\n",
    "        brandfreq[brand] = 0\n",
    "    brandfreq[brand] += 1\n",
    "brands = sorted(brandfreq.items(), key=lambda item: item[1])\n",
    "brands.reverse()\n",
    "brands\n",
    "\n",
    "# now we have the data sorted by brand"
   ]
  },
  {
   "cell_type": "code",
   "execution_count": 19,
   "metadata": {},
   "outputs": [],
   "source": [
    "import csv\n",
    "#read the spam csv file into a list\n",
    "\n",
    "def read_data_from_file(x):\n",
    "\n",
    "    data = []\n",
    "\n",
    "    with open(x,'r',encoding=\"ISO-8859-1\") as csv_file:\n",
    "\n",
    "        csv_reader = csv.reader(csv_file, delimiter=',')\n",
    "\n",
    "        # skip the first row\n",
    "\n",
    "        next(csv_reader)\n",
    "\n",
    "        for row in csv_reader:\n",
    "\n",
    "            data.append(row)\n",
    "\n",
    "    return data\n",
    "\n",
    "data = read_data_from_file('QVI_purchase_behaviour.csv')"
   ]
  },
  {
   "cell_type": "markdown",
   "metadata": {},
   "source": [
    "Now, lets take a look at the purchase behavior data"
   ]
  },
  {
   "cell_type": "code",
   "execution_count": 20,
   "metadata": {},
   "outputs": [
    {
     "data": {
      "text/html": [
       "<div>\n",
       "<style scoped>\n",
       "    .dataframe tbody tr th:only-of-type {\n",
       "        vertical-align: middle;\n",
       "    }\n",
       "\n",
       "    .dataframe tbody tr th {\n",
       "        vertical-align: top;\n",
       "    }\n",
       "\n",
       "    .dataframe thead th {\n",
       "        text-align: right;\n",
       "    }\n",
       "</style>\n",
       "<table border=\"1\" class=\"dataframe\">\n",
       "  <thead>\n",
       "    <tr style=\"text-align: right;\">\n",
       "      <th></th>\n",
       "      <th>LYLTY_CARD_NBR</th>\n",
       "      <th>LIFESTAGE</th>\n",
       "      <th>PREMIUM_CUSTOMER</th>\n",
       "    </tr>\n",
       "  </thead>\n",
       "  <tbody>\n",
       "    <tr>\n",
       "      <th>72632</th>\n",
       "      <td>2370651</td>\n",
       "      <td>MIDAGE SINGLES/COUPLES</td>\n",
       "      <td>Mainstream</td>\n",
       "    </tr>\n",
       "    <tr>\n",
       "      <th>72633</th>\n",
       "      <td>2370701</td>\n",
       "      <td>YOUNG FAMILIES</td>\n",
       "      <td>Mainstream</td>\n",
       "    </tr>\n",
       "    <tr>\n",
       "      <th>72634</th>\n",
       "      <td>2370751</td>\n",
       "      <td>YOUNG FAMILIES</td>\n",
       "      <td>Premium</td>\n",
       "    </tr>\n",
       "    <tr>\n",
       "      <th>72635</th>\n",
       "      <td>2370961</td>\n",
       "      <td>OLDER FAMILIES</td>\n",
       "      <td>Budget</td>\n",
       "    </tr>\n",
       "    <tr>\n",
       "      <th>72636</th>\n",
       "      <td>2373711</td>\n",
       "      <td>YOUNG SINGLES/COUPLES</td>\n",
       "      <td>Mainstream</td>\n",
       "    </tr>\n",
       "  </tbody>\n",
       "</table>\n",
       "</div>"
      ],
      "text/plain": [
       "       LYLTY_CARD_NBR               LIFESTAGE PREMIUM_CUSTOMER\n",
       "72632         2370651  MIDAGE SINGLES/COUPLES       Mainstream\n",
       "72633         2370701          YOUNG FAMILIES       Mainstream\n",
       "72634         2370751          YOUNG FAMILIES          Premium\n",
       "72635         2370961          OLDER FAMILIES           Budget\n",
       "72636         2373711   YOUNG SINGLES/COUPLES       Mainstream"
      ]
     },
     "execution_count": 20,
     "metadata": {},
     "output_type": "execute_result"
    }
   ],
   "source": [
    "purchase_behavior = pd.read_csv('QVI_purchase_behaviour.csv')\n",
    "purchase_behavior.tail()\n",
    "# view a sample of data"
   ]
  },
  {
   "cell_type": "code",
   "execution_count": 21,
   "metadata": {},
   "outputs": [
    {
     "name": "stdout",
     "output_type": "stream",
     "text": [
      "0\n"
     ]
    }
   ],
   "source": [
    "flags = 0\n",
    "tie = 0\n",
    "for number in transaction_data.LYLTY_CARD_NBR.values:\n",
    "    if number not in purchase_behavior.LYLTY_CARD_NBR.values:\n",
    "        flags += 1\n",
    "    else:\n",
    "        tie +=1\n",
    "print(flags)\n",
    "\n",
    "# zeros flags implies each transaction has a matched customer!\n",
    "# no nulls"
   ]
  },
  {
   "cell_type": "code",
   "execution_count": 22,
   "metadata": {},
   "outputs": [
    {
     "data": {
      "text/plain": [
       "264834"
      ]
     },
     "execution_count": 22,
     "metadata": {},
     "output_type": "execute_result"
    }
   ],
   "source": [
    "data = pd.merge(transaction_data,purchase_behavior,on='LYLTY_CARD_NBR')\n",
    "len(data.index)\n",
    "# same length as transaction data!\n",
    "# save this dataset as a csv for task 2"
   ]
  },
  {
   "cell_type": "code",
   "execution_count": 467,
   "metadata": {},
   "outputs": [
    {
     "name": "stdout",
     "output_type": "stream",
     "text": [
      "46431\n"
     ]
    }
   ],
   "source": [
    "# now, we want to sort out metrics based on customer type \n",
    "grouped_lifestage = data.groupby(['LIFESTAGE'])\n",
    "\n",
    "young_families = grouped_lifestage.get_group('YOUNG FAMILIES')\n",
    "young_singlescouples = grouped_lifestage.get_group('YOUNG SINGLES/COUPLES')\n",
    "midage_singlescouples = grouped_lifestage.get_group('MIDAGE SINGLES/COUPLES')\n",
    "new_families = grouped_lifestage.get_group('NEW FAMILIES')\n",
    "older_families = grouped_lifestage.get_group('OLDER FAMILIES')\n",
    "older_singlescouples = grouped_lifestage.get_group('OLDER SINGLES/COUPLES')\n",
    "retirees = grouped_lifestage.get_group('RETIREES')\n",
    "print(len(retirees.index))"
   ]
  },
  {
   "cell_type": "code",
   "execution_count": 483,
   "metadata": {},
   "outputs": [
    {
     "name": "stdout",
     "output_type": "stream",
     "text": [
      "LIFESTAGE\n",
      "MIDAGE SINGLES/COUPLES    172523.80\n",
      "NEW FAMILIES               47347.95\n",
      "OLDER FAMILIES            328519.90\n",
      "OLDER SINGLES/COUPLES     376019.65\n",
      "RETIREES                  342381.90\n",
      "YOUNG FAMILIES            294627.90\n",
      "YOUNG SINGLES/COUPLES     243756.60\n",
      "Name: TOT_SALES, dtype: float64\n"
     ]
    },
    {
     "data": {
      "text/plain": [
       "<BarContainer object of 7 artists>"
      ]
     },
     "execution_count": 483,
     "metadata": {},
     "output_type": "execute_result"
    },
    {
     "data": {
      "image/png": "[encoded data removed]",
      "text/plain": [
       "<Figure size 432x288 with 1 Axes>"
      ]
     },
     "metadata": {
      "needs_background": "light"
     },
     "output_type": "display_data"
    }
   ],
   "source": [
    "print(grouped_lifestage.sum()['TOT_SALES'])\n",
    "# this gives the total sales for each lifestage\n",
    "plt.xticks(rotation=90)\n",
    "plt.bar(grouped_lifestage.sum()['TOT_SALES'].index,grouped_lifestage.sum()['TOT_SALES'].values)"
   ]
  },
  {
   "cell_type": "code",
   "execution_count": 484,
   "metadata": {},
   "outputs": [
    {
     "name": "stdout",
     "output_type": "stream",
     "text": [
      "PREMIUM_CUSTOMER\n",
      "Budget        631406.85\n",
      "Mainstream    700865.40\n",
      "Premium       472905.45\n",
      "Name: TOT_SALES, dtype: float64\n"
     ]
    },
    {
     "data": {
      "image/png": "[encoded data removed]",
      "text/plain": [
       "<Figure size 432x288 with 1 Axes>"
      ]
     },
     "metadata": {
      "needs_background": "light"
     },
     "output_type": "display_data"
    }
   ],
   "source": [
    "# now lets do the same thing for premium customer.\n",
    "grouped_customer = data.groupby(['PREMIUM_CUSTOMER'])\n",
    "plt.title('Total Sales')\n",
    "plt.bar(grouped_customer.sum()['TOT_SALES'].index,grouped_customer.sum()['TOT_SALES'].values)\n",
    "print(grouped_customer.sum()['TOT_SALES'])"
   ]
  },
  {
   "cell_type": "code",
   "execution_count": 692,
   "metadata": {},
   "outputs": [
    {
     "name": "stdout",
     "output_type": "stream",
     "text": [
      "                                                  0\n",
      "('NEW FAMILIES', 'Premium')                10760.80\n",
      "('NEW FAMILIES', 'Mainstream')             15979.70\n",
      "('NEW FAMILIES', 'Budget')                 20607.45\n",
      "('MIDAGE SINGLES/COUPLES', 'Budget')       33345.70\n",
      "('YOUNG SINGLES/COUPLES', 'Premium')       39052.30\n",
      "('MIDAGE SINGLES/COUPLES', 'Premium')      54443.85\n",
      "('YOUNG SINGLES/COUPLES', 'Budget')        57122.10\n",
      "('OLDER FAMILIES', 'Premium')              75242.60\n",
      "('YOUNG FAMILIES', 'Premium')              78571.70\n",
      "('MIDAGE SINGLES/COUPLES', 'Mainstream')   84734.25\n",
      "('YOUNG FAMILIES', 'Mainstream')           86338.25\n",
      "('RETIREES', 'Premium')                    91296.65\n",
      "('OLDER FAMILIES', 'Mainstream')           96413.55\n",
      "('RETIREES', 'Budget')                    105916.30\n",
      "('OLDER SINGLES/COUPLES', 'Premium')      123537.55\n",
      "('OLDER SINGLES/COUPLES', 'Mainstream')   124648.50\n",
      "('OLDER SINGLES/COUPLES', 'Budget')       127833.60\n",
      "('YOUNG FAMILIES', 'Budget')              129717.95\n",
      "('RETIREES', 'Mainstream')                145168.95\n",
      "('YOUNG SINGLES/COUPLES', 'Mainstream')   147582.20\n",
      "('OLDER FAMILIES', 'Budget')              156863.75\n"
     ]
    },
    {
     "data": {
      "image/png": "[encoded data removed]",
      "text/plain": [
       "<Figure size 432x288 with 1 Axes>"
      ]
     },
     "metadata": {
      "needs_background": "light"
     },
     "output_type": "display_data"
    }
   ],
   "source": [
    "grouped = data.groupby(['LIFESTAGE','PREMIUM_CUSTOMER']).sum()\n",
    "groups = grouped['TOT_SALES'].index.tolist()\n",
    "\n",
    "sales = pd.DataFrame(grouped['TOT_SALES'].values.tolist(),index = [str(i) for i in groups])\n",
    "plt.xticks(rotation = 90)\n",
    "plt.title('Total Sales by Customer Segment')\n",
    "plt.bar([str(i) for i in groups],grouped['TOT_SALES'].values.tolist())\n",
    "print(sales.sort_values(by=0))\n",
    "# we can see that sales are coming mainly from Budget - older families, Mainstream - young\n",
    "#singles/couples, and Mainstream - retirees"
   ]
  },
  {
   "cell_type": "code",
   "execution_count": 693,
   "metadata": {},
   "outputs": [
    {
     "name": "stdout",
     "output_type": "stream",
     "text": [
      "LIFESTAGE               PREMIUM_CUSTOMER\n",
      "NEW FAMILIES            Premium              575\n",
      "                        Mainstream           830\n",
      "                        Budget              1087\n",
      "MIDAGE SINGLES/COUPLES  Budget              1474\n",
      "OLDER FAMILIES          Premium             2231\n",
      "MIDAGE SINGLES/COUPLES  Premium             2369\n",
      "YOUNG FAMILIES          Premium             2398\n",
      "YOUNG SINGLES/COUPLES   Premium             2480\n",
      "YOUNG FAMILIES          Mainstream          2685\n",
      "OLDER FAMILIES          Mainstream          2788\n",
      "MIDAGE SINGLES/COUPLES  Mainstream          3298\n",
      "YOUNG SINGLES/COUPLES   Budget              3647\n",
      "RETIREES                Premium             3812\n",
      "YOUNG FAMILIES          Budget              3953\n",
      "RETIREES                Budget              4385\n",
      "OLDER FAMILIES          Budget              4611\n",
      "OLDER SINGLES/COUPLES   Premium             4682\n",
      "                        Budget              4849\n",
      "                        Mainstream          4858\n",
      "RETIREES                Mainstream          6358\n",
      "YOUNG SINGLES/COUPLES   Mainstream          7917\n",
      "Name: LYLTY_CARD_NBR, dtype: int64\n"
     ]
    },
    {
     "data": {
      "text/plain": [
       "<BarContainer object of 21 artists>"
      ]
     },
     "execution_count": 693,
     "metadata": {},
     "output_type": "execute_result"
    },
    {
     "data": {
      "image/png": "[encoded data removed]",
      "text/plain": [
       "<Figure size 432x288 with 1 Axes>"
      ]
     },
     "metadata": {
      "needs_background": "light"
     },
     "output_type": "display_data"
    }
   ],
   "source": [
    "# now, lets see if which category has the most customers\n",
    "counts = data.groupby(['LIFESTAGE','PREMIUM_CUSTOMER'])['LYLTY_CARD_NBR'].nunique()\n",
    "print(counts.sort_values())\n",
    "\n",
    "plt.xticks(rotation = 90)\n",
    "plt.title('Total Number of Customers in Each Segment')\n",
    "plt.bar([str(i) for i in counts.index.tolist()],counts.values)\n",
    "# we can that the retirees - mainstream, and young couples/singles - premium have many customers,\n",
    "# while the older - budget has fewer"
   ]
  },
  {
   "cell_type": "code",
   "execution_count": 649,
   "metadata": {},
   "outputs": [
    {
     "name": "stdout",
     "output_type": "stream",
     "text": [
      "{('YOUNG SINGLES/COUPLES', 'Budget'): 4.250068549492734, ('YOUNG SINGLES/COUPLES', 'Premium'): 4.264112903225806, ('YOUNG SINGLES/COUPLES', 'Mainstream'): 4.575596816976128, ('NEW FAMILIES', 'Premium'): 4.815652173913043, ('NEW FAMILIES', 'Budget'): 4.821527138914443, ('NEW FAMILIES', 'Mainstream'): 4.891566265060241, ('RETIREES', 'Mainstream'): 5.925920100660585, ('MIDAGE SINGLES/COUPLES', 'Budget'): 6.026458616010855, ('MIDAGE SINGLES/COUPLES', 'Premium'): 6.0785141409877586, ('RETIREES', 'Premium'): 6.1033578174186776, ('RETIREES', 'Budget'): 6.141847206385405, ('MIDAGE SINGLES/COUPLES', 'Mainstream'): 6.432080048514251, ('OLDER SINGLES/COUPLES', 'Mainstream'): 6.712021407986826, ('OLDER SINGLES/COUPLES', 'Premium'): 6.769542930371636, ('OLDER SINGLES/COUPLES', 'Budget'): 6.781398226438441, ('YOUNG FAMILIES', 'Mainstream'): 8.638361266294227, ('YOUNG FAMILIES', 'Premium'): 8.716013344453712, ('YOUNG FAMILIES', 'Budget'): 8.722995193523905, ('OLDER FAMILIES', 'Premium'): 9.071716718960108, ('OLDER FAMILIES', 'Budget'): 9.076772934287574, ('OLDER FAMILIES', 'Mainstream'): 9.255380200860833}\n"
     ]
    }
   ],
   "source": [
    "# now we look at sales per customer\n",
    "categories = data.groupby(['LIFESTAGE','PREMIUM_CUSTOMER'])['LYLTY_CARD_NBR'].nunique().index.tolist()\n",
    "\n",
    "customers = data.groupby(['LIFESTAGE','PREMIUM_CUSTOMER'])['LYLTY_CARD_NBR'].unique()\n",
    "\n",
    "averages = {}\n",
    "for index, row in pd.DataFrame(customers).iterrows():\n",
    "    sum = 0\n",
    "    for i in row[0]:\n",
    "        sum = data.loc[data['LYLTY_CARD_NBR']==i,'PROD_QTY'].sum()+sum\n",
    "        averages[index] = sum/len(row[0])\n",
    "\n",
    "print({k: v for k, v in sorted(averages.items(), key=lambda item: item[1])})"
   ]
  },
  {
   "cell_type": "code",
   "execution_count": 650,
   "metadata": {},
   "outputs": [
    {
     "data": {
      "text/plain": [
       "<BarContainer object of 21 artists>"
      ]
     },
     "execution_count": 650,
     "metadata": {},
     "output_type": "execute_result"
    },
    {
     "data": {
      "image/png": "[encoded data removed]",
      "text/plain": [
       "<Figure size 432x288 with 1 Axes>"
      ]
     },
     "metadata": {
      "needs_background": "light"
     },
     "output_type": "display_data"
    }
   ],
   "source": [
    "plt.xticks(rotation = 90)\n",
    "plt.title('Average Purchase Quantity per Customer')\n",
    "plt.bar([str(i) for i in averages.keys()],averages.values())\n",
    "\n",
    "# older and younger families buy more units on average"
   ]
  },
  {
   "cell_type": "code",
   "execution_count": 663,
   "metadata": {},
   "outputs": [
    {
     "name": "stdout",
     "output_type": "stream",
     "text": [
      "{('MIDAGE SINGLES/COUPLES', 'Budget'): 3.7486243441548908, ('MIDAGE SINGLES/COUPLES', 'Mainstream'): 4.0634880306399985, ('MIDAGE SINGLES/COUPLES', 'Premium'): 3.7721208317363986, ('NEW FAMILIES', 'Budget'): 3.89171035751532, ('NEW FAMILIES', 'Mainstream'): 3.8980396307173426, ('NEW FAMILIES', 'Premium'): 3.8599895500634673, ('OLDER FAMILIES', 'Budget'): 3.8161117700633422, ('OLDER FAMILIES', 'Mainstream'): 3.8132909435936497, ('OLDER FAMILIES', 'Premium'): 3.7858387186880784, ('OLDER SINGLES/COUPLES', 'Budget'): 3.9029762610987357, ('OLDER SINGLES/COUPLES', 'Mainstream'): 3.814283731015405, ('OLDER SINGLES/COUPLES', 'Premium'): 3.935973213671783, ('RETIREES', 'Budget'): 3.9604901941230155, ('RETIREES', 'Mainstream'): 3.8393934667537106, ('RETIREES', 'Premium'): 3.9594967650672728, ('YOUNG FAMILIES', 'Budget'): 3.8336692342341827, ('YOUNG FAMILIES', 'Mainstream'): 3.7966208978547633, ('YOUNG FAMILIES', 'Premium'): 3.8336419767284218, ('YOUNG SINGLES/COUPLES', 'Budget'): 3.617722634733309, ('YOUNG SINGLES/COUPLES', 'Mainstream'): 4.128780847748808, ('YOUNG SINGLES/COUPLES', 'Premium'): 3.612840767702238}\n"
     ]
    }
   ],
   "source": [
    "avg_price_paid = {}\n",
    "\n",
    "\n",
    "for index, row in pd.DataFrame(customers).iterrows():\n",
    "    sum = 0\n",
    "    for i in row[0]:\n",
    "        sum = (data.loc[data['LYLTY_CARD_NBR']==i,'TOT_SALES'].sum()/data.loc[data['LYLTY_CARD_NBR']==i,'PROD_QTY'].sum())+sum\n",
    "        \n",
    "        avg_price_paid[index] = sum/len(row[0])\n",
    "    \n",
    "print(avg_price_paid)"
   ]
  },
  {
   "cell_type": "code",
   "execution_count": 664,
   "metadata": {},
   "outputs": [
    {
     "data": {
      "text/plain": [
       "<BarContainer object of 21 artists>"
      ]
     },
     "execution_count": 664,
     "metadata": {},
     "output_type": "execute_result"
    },
    {
     "data": {
      "image/png": "[encoded data removed]",
      "text/plain": [
       "<Figure size 432x288 with 1 Axes>"
      ]
     },
     "metadata": {
      "needs_background": "light"
     },
     "output_type": "display_data"
    }
   ],
   "source": [
    "plt.xticks(rotation = 90)\n",
    "plt.title('Average Price Paid by Category of Customer')\n",
    "plt.bar([str(i) for i in avg_price_paid.keys()],avg_price_paid.values())\n",
    "# here we see there is not a large difference in price per unit"
   ]
  },
  {
   "cell_type": "code",
   "execution_count": null,
   "metadata": {},
   "outputs": [],
   "source": [
    "testdata = {}\n",
    "for index, row in pd.DataFrame(customers).iterrows():\n",
    "    lst = []\n",
    "    for i in row[0]:\n",
    "        lst.append(data.loc[data['LYLTY_CARD_NBR']==i,'TOT_SALES'].sum()/data.loc[data['LYLTY_CARD_NBR']==i,'PROD_QTY'].sum())\n",
    "        testdata[index] = lst\n",
    "\n",
    "#print(testdata)"
   ]
  },
  {
   "cell_type": "code",
   "execution_count": 683,
   "metadata": {},
   "outputs": [
    {
     "name": "stdout",
     "output_type": "stream",
     "text": [
      "yscMain_yscPremium Ttest_indResult(statistic=27.872062662802172, pvalue=6.117781710525683e-165)\n",
      "yscMain_yscBudget Ttest_indResult(statistic=31.358137815668496, pvalue=3.0967974946087864e-207)\n",
      "yscPremium_yscBudget Ttest_indResult(statistic=-0.19917364274155583, pvalue=0.8421335275597455)\n"
     ]
    }
   ],
   "source": [
    "# lets check with an independent t-test\n",
    "import scipy.stats as stats\n",
    "yscMain_yscPremium = stats.ttest_ind(testdata[('YOUNG SINGLES/COUPLES', 'Mainstream')],testdata[('YOUNG SINGLES/COUPLES', 'Premium')])\n",
    "yscMain_yscBudget = stats.ttest_ind(testdata[('YOUNG SINGLES/COUPLES', 'Mainstream')],testdata[('YOUNG SINGLES/COUPLES', 'Budget')])\n",
    "yscPremium_yscBudget = stats.ttest_ind(testdata[('YOUNG SINGLES/COUPLES', 'Premium')],testdata[('YOUNG SINGLES/COUPLES', 'Budget')])\n",
    "\n",
    "print('yscMain_yscPremium: ',yscMain_yscPremium)\n",
    "print('yscMain_yscBudget: ',yscMain_yscBudget)\n",
    "print('yscPremium_yscBudget: ',yscPremium_yscBudget)"
   ]
  },
  {
   "cell_type": "markdown",
   "metadata": {},
   "source": [
    "The results printed above show high t-values,low p-values for the comparisons ('YOUNG SINGLES/COUPLES', 'Mainstream') vs ('YOUNG SINGLES/COUPLES', 'Budget'), and ('YOUNG SINGLES/COUPLES', 'Mainstream') vs ('YOUNG SINGLES/COUPLES', 'Premium'), meaning that for both of these tests we can reject the null hypothesis and declare the average price for mainstream customer to be higher than the premium and budget customer categories. "
   ]
  },
  {
   "cell_type": "code",
   "execution_count": 685,
   "metadata": {},
   "outputs": [
    {
     "name": "stdout",
     "output_type": "stream",
     "text": [
      "midageMain_midagePremium:  Ttest_indResult(statistic=13.869488749525793, pvalue=4.868433259926374e-43)\n",
      "midageMain_midageBudget:  Ttest_indResult(statistic=13.367158437265307, pvalue=4.902937956318965e-40)\n",
      "midagePremium_midageBudget:  Ttest_indResult(statistic=0.8213027866251766, pvalue=0.411524793301551)\n"
     ]
    }
   ],
   "source": [
    "midageMain_midagePremium = stats.ttest_ind(testdata[('MIDAGE SINGLES/COUPLES', 'Mainstream')],testdata[('MIDAGE SINGLES/COUPLES', 'Premium')])\n",
    "midageMain_midageBudget = stats.ttest_ind(testdata[('MIDAGE SINGLES/COUPLES', 'Mainstream')],testdata[('MIDAGE SINGLES/COUPLES', 'Budget')])\n",
    "midagePremium_midageBudget = stats.ttest_ind(testdata[('MIDAGE SINGLES/COUPLES', 'Premium')],testdata[('MIDAGE SINGLES/COUPLES', 'Budget')])\n",
    "\n",
    "print('midageMain_midagePremium: ',midageMain_midagePremium)\n",
    "print('midageMain_midageBudget: ',midageMain_midageBudget)\n",
    "print('midagePremium_midageBudget: ',midagePremium_midageBudget)"
   ]
  },
  {
   "cell_type": "markdown",
   "metadata": {},
   "source": [
    "The results printed above show high t-values,low p-values for the comparisons ('MIDAGE SINGLES/COUPLES', 'Mainstream') vs ('MIDAGE SINGLES/COUPLES', 'Budget'), and ('MIDAGE SINGLES/COUPLES', 'Mainstream') vs ('MIDAGE SINGLES/COUPLES', 'Premium'), meaning that for both of these tests we can reject the null hypothesis and declare the average price for mainstream customer to be higher than the premium and budget customer categories. "
   ]
  },
  {
   "cell_type": "code",
   "execution_count": 741,
   "metadata": {},
   "outputs": [
    {
     "name": "stdout",
     "output_type": "stream",
     "text": [
      "Kettle        3844\n",
      "Doritos       2379\n",
      "Pringles      2315\n",
      "Smiths        1983\n",
      "Infuzions     1250\n",
      "Thins         1166\n",
      "Twisties       900\n",
      "Tostitos       890\n",
      "RRD            875\n",
      "Cobs           864\n",
      "Sunbites       774\n",
      "Tyrrells       619\n",
      "Woolworths     479\n",
      "NCC            394\n",
      "Cheezels       346\n",
      "CCs            222\n",
      "Cheetos        166\n",
      "French          78\n",
      "Name: BRAND, dtype: int64\n"
     ]
    }
   ],
   "source": [
    "# lets look at the category of customer that contributes most to sales\n",
    "# see if we can find out if they prefer a particular brand of chip\n",
    "# we're looking at the mainstream-young singles/couples\n",
    "\n",
    "brandcounts = data.groupby(['LIFESTAGE','PREMIUM_CUSTOMER'])['BRAND']\n",
    "ysc_main_brands = brandcounts.get_group(('YOUNG SINGLES/COUPLES', 'Mainstream'))\n",
    "print(ysc_main_brands.value_counts())\n",
    "\n",
    "# now we can see the number of times each brand was bought by this group"
   ]
  },
  {
   "cell_type": "code",
   "execution_count": 742,
   "metadata": {},
   "outputs": [
    {
     "name": "stdout",
     "output_type": "stream",
     "text": [
      "Kettle        3320\n",
      "Smiths        3107\n",
      "Doritos       2032\n",
      "Pringles      1996\n",
      "RRD           1708\n",
      "Woolworths    1213\n",
      "Infuzions     1185\n",
      "Thins         1171\n",
      "Sunbites       976\n",
      "Twisties       810\n",
      "Cobs           760\n",
      "NCC            741\n",
      "Tostitos       705\n",
      "Tyrrells       489\n",
      "CCs            451\n",
      "Cheezels       427\n",
      "Cheetos        281\n",
      "French         142\n",
      "Name: BRAND, dtype: int64\n"
     ]
    }
   ],
   "source": [
    "# lets get this same list for older families - budget customers\n",
    "older_families_budget_brands = brandcounts.get_group(('OLDER FAMILIES', 'Budget'))\n",
    "print(older_families_budget_brands.value_counts())"
   ]
  },
  {
   "cell_type": "code",
   "execution_count": 744,
   "metadata": {},
   "outputs": [
    {
     "name": "stdout",
     "output_type": "stream",
     "text": [
      "{'Kettle': 0.09310211199379965, 'Doritos': 0.09431493815413891, 'Pringles': 0.09222372719305234, 'Smiths': 0.06212989942663784, 'Infuzions': 0.08802197028378284, 'Thins': 0.08284191829484902, 'Twisties': 0.0951977998730696, 'Tostitos': 0.09397106958082568, 'RRD': 0.05361191103486306, 'Cobs': 0.08913649025069638, 'Sunbites': 0.07201339784145888, 'Tyrrells': 0.09608817137534927, 'Woolworths': 0.04046975329503211, 'NCC': 0.05275137233900121, 'Cheezels': 0.0751683684553552, 'CCs': 0.04878048780487805, 'Cheetos': 0.0567133583874274, 'French': 0.05500705218617771}\n"
     ]
    },
    {
     "data": {
      "text/plain": [
       "<BarContainer object of 18 artists>"
      ]
     },
     "execution_count": 744,
     "metadata": {},
     "output_type": "execute_result"
    },
    {
     "data": {
      "image/png": "[encoded data removed]",
      "text/plain": [
       "<Figure size 432x288 with 1 Axes>"
      ]
     },
     "metadata": {
      "needs_background": "light"
     },
     "output_type": "display_data"
    }
   ],
   "source": [
    "# It would be helpful to know how much each customer segment like a brand\n",
    "# relative to the entire customer database\n",
    "# using our dictionary of brands from before\n",
    "\n",
    "percentofbrandsales_yscmain = {}\n",
    "for index, row in ysc_main_brands.value_counts().iteritems():\n",
    "    for i in brands:\n",
    "        if index == i[0]:\n",
    "            percentofbrandsales_yscmain[index] = row/i[1]\n",
    "\n",
    "print(percentofbrandsales_yscmain)\n",
    "plt.xticks(rotation = 90)\n",
    "plt.title('Percentage of Total Sales of Each Brand by Mainstream - Young Singles/Couples')\n",
    "plt.bar(percentofbrandsales_yscmain.keys(),[100*x for x in percentofbrandsales_yscmain.values()])\n",
    "\n",
    "# looks like this segment is split but prefers Tyrells over the other segments"
   ]
  },
  {
   "cell_type": "code",
   "execution_count": 745,
   "metadata": {},
   "outputs": [
    {
     "name": "stdout",
     "output_type": "stream",
     "text": [
      "{'Kettle': 0.08041077310598721, 'Smiths': 0.0973462418147069, 'Doritos': 0.08055819854107199, 'Pringles': 0.07951557644809179, 'RRD': 0.10465045034005269, 'Woolworths': 0.10248394727948631, 'Infuzions': 0.08344482782902612, 'Thins': 0.08319715808170515, 'Sunbites': 0.09080759211016003, 'Twisties': 0.08567801988576264, 'Cobs': 0.07840709790570514, 'NCC': 0.09921006828223324, 'Tostitos': 0.07443775736458663, 'Tyrrells': 0.07590810307357963, 'CCs': 0.0990990990990991, 'Cheezels': 0.0927655876602216, 'Cheetos': 0.0960027331738982, 'French': 0.1001410437235543}\n"
     ]
    },
    {
     "data": {
      "text/plain": [
       "<BarContainer object of 18 artists>"
      ]
     },
     "execution_count": 745,
     "metadata": {},
     "output_type": "execute_result"
    },
    {
     "data": {
      "image/png": "[encoded data removed]",
      "text/plain": [
       "<Figure size 432x288 with 1 Axes>"
      ]
     },
     "metadata": {
      "needs_background": "light"
     },
     "output_type": "display_data"
    }
   ],
   "source": [
    "# Lets do the same thing for the Budget - Older Families group\n",
    "\n",
    "percentofbrandsales_budolderfamilies = {}\n",
    "for index, row in older_families_budget_brands.value_counts().iteritems():\n",
    "    for i in brands:\n",
    "        if index == i[0]:\n",
    "            percentofbrandsales_budolderfamilies[index] = row/i[1]\n",
    "\n",
    "print(percentofbrandsales_budolderfamilies)\n",
    "plt.xticks(rotation = 90)\n",
    "plt.title('Percentage of Total Sales of Each Brand by Budget - Older Families')\n",
    "plt.bar(percentofbrandsales_budolderfamilies.keys(),[100*x for x in percentofbrandsales_budolderfamilies.values()])\n",
    "\n",
    "# again its a tight split, but it looks like this segment prefers the Red Rock Deli brand"
   ]
  },
  {
   "cell_type": "code",
   "execution_count": 753,
   "metadata": {},
   "outputs": [
    {
     "name": "stdout",
     "output_type": "stream",
     "text": [
      "Older family - budget, average pack size:  175.54634191689132\n",
      "Young singles/couples - mainstream, average pack size:  178.34424887433482\n"
     ]
    }
   ],
   "source": [
    "# now we can take a similar analysis for the pack size\n",
    "\n",
    "pack_sizes = data.groupby(['LIFESTAGE','PREMIUM_CUSTOMER'])['PACK_SIZE']\n",
    "older_fams_bud_packsize = np.mean(pack_sizes.get_group(('OLDER FAMILIES', 'Budget')))\n",
    "young_fams_main_packsize = np.mean(pack_sizes.get_group(('YOUNG SINGLES/COUPLES', 'Mainstream')))\n",
    "print('Older family - budget, average pack size: ',older_fams_bud_packsize)\n",
    "print('Young singles/couples - mainstream, average pack size: ',young_fams_main_packsize)\n",
    "\n",
    "# we have the averages for these two segments, lets see if we can compare them to the total average pack size"
   ]
  },
  {
   "cell_type": "code",
   "execution_count": 754,
   "metadata": {},
   "outputs": [
    {
     "data": {
      "text/plain": [
       "175.5835211153441"
      ]
     },
     "execution_count": 754,
     "metadata": {},
     "output_type": "execute_result"
    }
   ],
   "source": [
    "print(np.mean(data.PACK_SIZE))\n",
    "# looks like the young singles/couples like to buy slightly larger pack sizes"
   ]
  },
  {
   "cell_type": "code",
   "execution_count": 755,
   "metadata": {},
   "outputs": [
    {
     "data": {
      "text/plain": [
       "Ttest_indResult(statistic=-6.215484470191187, pvalue=5.124194856112823e-10)"
      ]
     },
     "execution_count": 755,
     "metadata": {},
     "output_type": "execute_result"
    }
   ],
   "source": [
    "# lets run a quick t-test\n",
    "stats.ttest_ind(data.PACK_SIZE,pack_sizes.get_group(('YOUNG SINGLES/COUPLES', 'Mainstream')))\n",
    "\n",
    "# this p-values suggests a significant different "
   ]
  },
  {
   "cell_type": "code",
   "execution_count": 24,
   "metadata": {},
   "outputs": [],
   "source": [
    "data.to_csv('QVI_data.csv')"
   ]
  },
  {
   "cell_type": "code",
   "execution_count": 23,
   "metadata": {},
   "outputs": [
    {
     "data": {
      "text/html": [
       "<div>\n",
       "<style scoped>\n",
       "    .dataframe tbody tr th:only-of-type {\n",
       "        vertical-align: middle;\n",
       "    }\n",
       "\n",
       "    .dataframe tbody tr th {\n",
       "        vertical-align: top;\n",
       "    }\n",
       "\n",
       "    .dataframe thead th {\n",
       "        text-align: right;\n",
       "    }\n",
       "</style>\n",
       "<table border=\"1\" class=\"dataframe\">\n",
       "  <thead>\n",
       "    <tr style=\"text-align: right;\">\n",
       "      <th></th>\n",
       "      <th>DATE</th>\n",
       "      <th>STORE_NBR</th>\n",
       "      <th>LYLTY_CARD_NBR</th>\n",
       "      <th>TXN_ID</th>\n",
       "      <th>PROD_NBR</th>\n",
       "      <th>BRAND</th>\n",
       "      <th>PROD_NAME</th>\n",
       "      <th>PACK_SIZE</th>\n",
       "      <th>PROD_QTY</th>\n",
       "      <th>TOT_SALES</th>\n",
       "      <th>LIFESTAGE</th>\n",
       "      <th>PREMIUM_CUSTOMER</th>\n",
       "    </tr>\n",
       "  </thead>\n",
       "  <tbody>\n",
       "    <tr>\n",
       "      <th>0</th>\n",
       "      <td>2018-10-17</td>\n",
       "      <td>1</td>\n",
       "      <td>1000</td>\n",
       "      <td>1</td>\n",
       "      <td>5</td>\n",
       "      <td>NCC</td>\n",
       "      <td>Natural Chip        Compny SeaSalt175g</td>\n",
       "      <td>175</td>\n",
       "      <td>2</td>\n",
       "      <td>6.0</td>\n",
       "      <td>YOUNG SINGLES/COUPLES</td>\n",
       "      <td>Premium</td>\n",
       "    </tr>\n",
       "    <tr>\n",
       "      <th>1</th>\n",
       "      <td>2019-05-14</td>\n",
       "      <td>1</td>\n",
       "      <td>1307</td>\n",
       "      <td>348</td>\n",
       "      <td>66</td>\n",
       "      <td>CCs</td>\n",
       "      <td>CCs Nacho Cheese    175g</td>\n",
       "      <td>175</td>\n",
       "      <td>3</td>\n",
       "      <td>6.3</td>\n",
       "      <td>MIDAGE SINGLES/COUPLES</td>\n",
       "      <td>Budget</td>\n",
       "    </tr>\n",
       "    <tr>\n",
       "      <th>2</th>\n",
       "      <td>2018-11-10</td>\n",
       "      <td>1</td>\n",
       "      <td>1307</td>\n",
       "      <td>346</td>\n",
       "      <td>96</td>\n",
       "      <td>Woolworths</td>\n",
       "      <td>WW Original Stacked Chips 160g</td>\n",
       "      <td>160</td>\n",
       "      <td>2</td>\n",
       "      <td>3.8</td>\n",
       "      <td>MIDAGE SINGLES/COUPLES</td>\n",
       "      <td>Budget</td>\n",
       "    </tr>\n",
       "    <tr>\n",
       "      <th>3</th>\n",
       "      <td>2019-03-09</td>\n",
       "      <td>1</td>\n",
       "      <td>1307</td>\n",
       "      <td>347</td>\n",
       "      <td>54</td>\n",
       "      <td>CCs</td>\n",
       "      <td>CCs Original 175g</td>\n",
       "      <td>175</td>\n",
       "      <td>1</td>\n",
       "      <td>2.1</td>\n",
       "      <td>MIDAGE SINGLES/COUPLES</td>\n",
       "      <td>Budget</td>\n",
       "    </tr>\n",
       "    <tr>\n",
       "      <th>4</th>\n",
       "      <td>2019-05-20</td>\n",
       "      <td>1</td>\n",
       "      <td>1343</td>\n",
       "      <td>383</td>\n",
       "      <td>61</td>\n",
       "      <td>Smiths</td>\n",
       "      <td>Smiths Crinkle Cut  Chips Chicken 170g</td>\n",
       "      <td>170</td>\n",
       "      <td>2</td>\n",
       "      <td>2.9</td>\n",
       "      <td>MIDAGE SINGLES/COUPLES</td>\n",
       "      <td>Budget</td>\n",
       "    </tr>\n",
       "    <tr>\n",
       "      <th>...</th>\n",
       "      <td>...</td>\n",
       "      <td>...</td>\n",
       "      <td>...</td>\n",
       "      <td>...</td>\n",
       "      <td>...</td>\n",
       "      <td>...</td>\n",
       "      <td>...</td>\n",
       "      <td>...</td>\n",
       "      <td>...</td>\n",
       "      <td>...</td>\n",
       "      <td>...</td>\n",
       "      <td>...</td>\n",
       "    </tr>\n",
       "    <tr>\n",
       "      <th>264829</th>\n",
       "      <td>2019-03-09</td>\n",
       "      <td>272</td>\n",
       "      <td>272319</td>\n",
       "      <td>270088</td>\n",
       "      <td>89</td>\n",
       "      <td>Kettle</td>\n",
       "      <td>Kettle Sweet Chilli And Sour Cream 175g</td>\n",
       "      <td>175</td>\n",
       "      <td>2</td>\n",
       "      <td>10.8</td>\n",
       "      <td>YOUNG SINGLES/COUPLES</td>\n",
       "      <td>Premium</td>\n",
       "    </tr>\n",
       "    <tr>\n",
       "      <th>264830</th>\n",
       "      <td>2018-08-13</td>\n",
       "      <td>272</td>\n",
       "      <td>272358</td>\n",
       "      <td>270154</td>\n",
       "      <td>74</td>\n",
       "      <td>Tostitos</td>\n",
       "      <td>Tostitos Splash Of  Lime 175g</td>\n",
       "      <td>175</td>\n",
       "      <td>1</td>\n",
       "      <td>4.4</td>\n",
       "      <td>YOUNG SINGLES/COUPLES</td>\n",
       "      <td>Premium</td>\n",
       "    </tr>\n",
       "    <tr>\n",
       "      <th>264831</th>\n",
       "      <td>2018-11-06</td>\n",
       "      <td>272</td>\n",
       "      <td>272379</td>\n",
       "      <td>270187</td>\n",
       "      <td>51</td>\n",
       "      <td>Doritos</td>\n",
       "      <td>Doritos Mexicana    170g</td>\n",
       "      <td>170</td>\n",
       "      <td>2</td>\n",
       "      <td>8.8</td>\n",
       "      <td>YOUNG SINGLES/COUPLES</td>\n",
       "      <td>Premium</td>\n",
       "    </tr>\n",
       "    <tr>\n",
       "      <th>264832</th>\n",
       "      <td>2018-12-27</td>\n",
       "      <td>272</td>\n",
       "      <td>272379</td>\n",
       "      <td>270188</td>\n",
       "      <td>42</td>\n",
       "      <td>Doritos</td>\n",
       "      <td>Doritos Corn Chip Mexican Jalapeno 150g</td>\n",
       "      <td>150</td>\n",
       "      <td>2</td>\n",
       "      <td>7.8</td>\n",
       "      <td>YOUNG SINGLES/COUPLES</td>\n",
       "      <td>Premium</td>\n",
       "    </tr>\n",
       "    <tr>\n",
       "      <th>264833</th>\n",
       "      <td>2018-09-22</td>\n",
       "      <td>272</td>\n",
       "      <td>272380</td>\n",
       "      <td>270189</td>\n",
       "      <td>74</td>\n",
       "      <td>Tostitos</td>\n",
       "      <td>Tostitos Splash Of  Lime 175g</td>\n",
       "      <td>175</td>\n",
       "      <td>2</td>\n",
       "      <td>8.8</td>\n",
       "      <td>YOUNG SINGLES/COUPLES</td>\n",
       "      <td>Premium</td>\n",
       "    </tr>\n",
       "  </tbody>\n",
       "</table>\n",
       "<p>264834 rows × 12 columns</p>\n",
       "</div>"
      ],
      "text/plain": [
       "             DATE  STORE_NBR  LYLTY_CARD_NBR  TXN_ID  PROD_NBR       BRAND  \\\n",
       "0      2018-10-17          1            1000       1         5         NCC   \n",
       "1      2019-05-14          1            1307     348        66         CCs   \n",
       "2      2018-11-10          1            1307     346        96  Woolworths   \n",
       "3      2019-03-09          1            1307     347        54         CCs   \n",
       "4      2019-05-20          1            1343     383        61      Smiths   \n",
       "...           ...        ...             ...     ...       ...         ...   \n",
       "264829 2019-03-09        272          272319  270088        89      Kettle   \n",
       "264830 2018-08-13        272          272358  270154        74    Tostitos   \n",
       "264831 2018-11-06        272          272379  270187        51     Doritos   \n",
       "264832 2018-12-27        272          272379  270188        42     Doritos   \n",
       "264833 2018-09-22        272          272380  270189        74    Tostitos   \n",
       "\n",
       "                                      PROD_NAME  PACK_SIZE  PROD_QTY  \\\n",
       "0        Natural Chip        Compny SeaSalt175g        175         2   \n",
       "1                      CCs Nacho Cheese    175g        175         3   \n",
       "2                WW Original Stacked Chips 160g        160         2   \n",
       "3                             CCs Original 175g        175         1   \n",
       "4        Smiths Crinkle Cut  Chips Chicken 170g        170         2   \n",
       "...                                         ...        ...       ...   \n",
       "264829  Kettle Sweet Chilli And Sour Cream 175g        175         2   \n",
       "264830            Tostitos Splash Of  Lime 175g        175         1   \n",
       "264831                 Doritos Mexicana    170g        170         2   \n",
       "264832  Doritos Corn Chip Mexican Jalapeno 150g        150         2   \n",
       "264833            Tostitos Splash Of  Lime 175g        175         2   \n",
       "\n",
       "        TOT_SALES               LIFESTAGE PREMIUM_CUSTOMER  \n",
       "0             6.0   YOUNG SINGLES/COUPLES          Premium  \n",
       "1             6.3  MIDAGE SINGLES/COUPLES           Budget  \n",
       "2             3.8  MIDAGE SINGLES/COUPLES           Budget  \n",
       "3             2.1  MIDAGE SINGLES/COUPLES           Budget  \n",
       "4             2.9  MIDAGE SINGLES/COUPLES           Budget  \n",
       "...           ...                     ...              ...  \n",
       "264829       10.8   YOUNG SINGLES/COUPLES          Premium  \n",
       "264830        4.4   YOUNG SINGLES/COUPLES          Premium  \n",
       "264831        8.8   YOUNG SINGLES/COUPLES          Premium  \n",
       "264832        7.8   YOUNG SINGLES/COUPLES          Premium  \n",
       "264833        8.8   YOUNG SINGLES/COUPLES          Premium  \n",
       "\n",
       "[264834 rows x 12 columns]"
      ]
     },
     "execution_count": 23,
     "metadata": {},
     "output_type": "execute_result"
    }
   ],
   "source": [
    "data"
   ]
  },
  {
   "cell_type": "code",
   "execution_count": null,
   "metadata": {},
   "outputs": [],
   "source": []
  }
 ],
 "metadata": {
  "kernelspec": {
   "display_name": "Python 3.9.7 ('base')",
   "language": "python",
   "name": "python3"
  },
  "language_info": {
   "codemirror_mode": {
    "name": "ipython",
    "version": 3
   },
   "file_extension": ".py",
   "mimetype": "text/x-python",
   "name": "python",
   "nbconvert_exporter": "python",
   "pygments_lexer": "ipython3",
   "version": "3.9.7"
  },
  "orig_nbformat": 4,
  "vscode": {
   "interpreter": {
    "hash": "dfbb6c1f642508dba2f41ddf73f698b0db114ee303e209f51867894750afe0e2"
   }
  }
 },
 "nbformat": 4,
 "nbformat_minor": 2
}
