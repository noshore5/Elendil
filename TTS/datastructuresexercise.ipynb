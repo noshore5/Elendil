{
  "cells": [
    {
      "cell_type": "code",
      "execution_count": null,
      "metadata": {
        "id": "A87RPc85wY41",
        "outputId": "32aa1371-6335-4b2d-98b4-89d0295e0f6a"
      },
      "outputs": [
        {
          "data": {
            "text/plain": [
              "(1j, -1j)"
            ]
          },
          "execution_count": 16,
          "metadata": {},
          "output_type": "execute_result"
        }
      ],
      "source": [
        "# ex 1 \n",
        "import math\n",
        "import cmath # dont neglet complex roots!\n",
        "def solve_quadratic(a,b,c):\n",
        "    x1 = (-b + cmath.sqrt(b**2-4*a*c))/(2*a)\n",
        "    x2 = (-b - cmath.sqrt(b**2-4*a*c))/(2*a)\n",
        "    return x1,x2\n",
        "\n",
        "solve_quadratic(1,0,1)"
      ]
    },
    {
      "cell_type": "code",
      "execution_count": null,
      "metadata": {
        "id": "mjmpB9JcwY44",
        "outputId": "f116940d-c0e2-4471-9d5b-45a95ceef18c"
      },
      "outputs": [
        {
          "name": "stdout",
          "output_type": "stream",
          "text": [
            "<class 'tuple'>\n",
            "485696759010151909\n"
          ]
        }
      ],
      "source": [
        "# ex 2\n",
        "lst = tuple(int(i) for i in (input(\"enter list of integers\").split(\" \")))\n",
        "print(type(lst))\n",
        "print(hash(lst))"
      ]
    },
    {
      "cell_type": "code",
      "execution_count": null,
      "metadata": {
        "id": "qN1VJAuuwY44",
        "outputId": "914cc603-9db7-4c95-80af-48cd2d0fa75e"
      },
      "outputs": [
        {
          "name": "stdout",
          "output_type": "stream",
          "text": [
            "[6, 12, 18, 4, 12, 20, 28]\n"
          ]
        }
      ],
      "source": [
        "# ex 3\n",
        "\n",
        "listOne = [3, 6, 9, 12, 15, 18, 21]\n",
        "listTwo = [4, 8, 12, 16, 20, 24, 28]\n",
        "\n",
        "listThree = listOne[1::2]+listTwo[::2]\n",
        "print(listThree)"
      ]
    },
    {
      "cell_type": "code",
      "execution_count": null,
      "metadata": {
        "id": "NnTviAt5wY45",
        "outputId": "caae3f92-60af-40de-dabc-a46a1fdc5941"
      },
      "outputs": [
        {
          "name": "stdout",
          "output_type": "stream",
          "text": [
            "[8, 45, 11] [12, 14, 23] [89, 45, 78]\n"
          ]
        }
      ],
      "source": [
        "# ex 4\n",
        "\n",
        "sampleList = [11, 45, 8, 23, 14, 12, 78, 45, 89]\n",
        "one = sampleList[:len(sampleList)//3]\n",
        "two = sampleList[len(sampleList)//3:2*len(sampleList)//3]\n",
        "three = sampleList[2*len(sampleList)//3:]\n",
        "\n",
        "print(one[::-1],two[::-1],three[::-1])"
      ]
    },
    {
      "cell_type": "code",
      "execution_count": null,
      "metadata": {
        "id": "JjbPZYXNwY45",
        "outputId": "cce1c65e-3c98-4014-eb8d-cc1698fd09cd"
      },
      "outputs": [
        {
          "name": "stdout",
          "output_type": "stream",
          "text": [
            "[64, 37, 83, 95]\n"
          ]
        }
      ],
      "source": [
        "# ex 5\n",
        "\n",
        "rollNumber = [47, 64, 69, 37, 76, 83, 95, 97]\n",
        "sampleDict ={'Zach':47, 'Emma':69, 'Kelly':76, 'Jason':97}\n",
        "\n",
        "for idx,i in enumerate(rollNumber): # I always wondered what enumerate did\n",
        "    if i in sampleDict.values():\n",
        "        rollNumber.pop(idx)\n",
        "\n",
        "print(rollNumber)\n"
      ]
    },
    {
      "cell_type": "code",
      "execution_count": null,
      "metadata": {
        "id": "T8nuT5JswY45"
      },
      "outputs": [],
      "source": []
    }
  ],
  "metadata": {
    "kernelspec": {
      "display_name": "pytorch",
      "language": "python",
      "name": "python3"
    },
    "language_info": {
      "codemirror_mode": {
        "name": "ipython",
        "version": 3
      },
      "file_extension": ".py",
      "mimetype": "text/x-python",
      "name": "python",
      "nbconvert_exporter": "python",
      "pygments_lexer": "ipython3",
      "version": "3.7.13"
    },
    "orig_nbformat": 4,
    "vscode": {
      "interpreter": {
        "hash": "4172d649225c8fcc6b3e8210a90642e4949e6c810943f71918dd4945336f343d"
      }
    },
    "colab": {
      "provenance": []
    }
  },
  "nbformat": 4,
  "nbformat_minor": 0
}