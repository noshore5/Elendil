{
 "cells": [
  {
   "cell_type": "code",
   "execution_count": 7,
   "metadata": {},
   "outputs": [],
   "source": [
    "import re\n",
    "import random as ran\n"
   ]
  },
  {
   "cell_type": "code",
   "execution_count": 17,
   "metadata": {},
   "outputs": [
    {
     "name": "stdout",
     "output_type": "stream",
     "text": [
      "9\n",
      "I got it\n"
     ]
    }
   ],
   "source": [
    "guess = ran.randint(1,9)\n",
    "print(guess)\n",
    "number = int(input(\"please enter a number\"))\n",
    "\n",
    "if guess == number:\n",
    "    print(\"I got it\")\n",
    "else:\n",
    "    print(\"I lose\")"
   ]
  },
  {
   "cell_type": "code",
   "execution_count": 20,
   "metadata": {},
   "outputs": [
    {
     "data": {
      "text/plain": [
       "NoneType"
      ]
     },
     "execution_count": 20,
     "metadata": {},
     "output_type": "execute_result"
    }
   ],
   "source": [
    "pw = \"lalalalla\"\n"
   ]
  },
  {
   "cell_type": "code",
   "execution_count": 44,
   "metadata": {},
   "outputs": [
    {
     "data": {
      "text/plain": [
       "'passord ok'"
      ]
     },
     "execution_count": 44,
     "metadata": {},
     "output_type": "execute_result"
    }
   ],
   "source": [
    "# exercise 2\n",
    "#pw = input(\"please enter password\")\n",
    "pw = input(\"enter password\")\n",
    "\n",
    "def check(pw:str):\n",
    "    if re.search(\"[A-Z]\",pw) == None or re.search(\"[a-z]\",pw) == None:\n",
    "        return \"Password not valid\"\n",
    "    elif re.search(\"[0-9]\",pw) == None:\n",
    "        return \"Password not valid\"\n",
    "    elif re.search(\"[$#@]\",pw)==None:\n",
    "        print(True)\n",
    "        return \"Password not valid\"\n",
    "    elif len(pw) < 6 or len(pw) > 16:\n",
    "        return \"password not valid\"\n",
    "    else:\n",
    "        return \"passord ok\"\n",
    "\n",
    "check(pw)"
   ]
  },
  {
   "cell_type": "code",
   "execution_count": 52,
   "metadata": {},
   "outputs": [
    {
     "name": "stdout",
     "output_type": "stream",
     "text": [
      "[('p3', 1), ('p2', 2), ('p1', 3)]\n"
     ]
    }
   ],
   "source": [
    "# ex 3\n",
    "\n",
    "p1 = int(input(\"enter 1\"))\n",
    "p2 = int(input(\"enter 2\"))\n",
    "p3 = int(input(\"enter 3\"))\n",
    "\n",
    "ages = {\"p1\":p1,\"p2\":p2,\"p3\":p3}\n",
    "\n",
    "print(sorted(ages.items(),key = lambda x:x[1])) # I really hope theres a better way!\n"
   ]
  },
  {
   "cell_type": "code",
   "execution_count": 55,
   "metadata": {},
   "outputs": [
    {
     "name": "stdout",
     "output_type": "stream",
     "text": [
      "75.0 percent\n"
     ]
    }
   ],
   "source": [
    "# ex 4\n",
    "\n",
    "classes = 100\n",
    "classesattended = 75\n",
    "\n",
    "print(100*classesattended/classes,\"percent\")"
   ]
  },
  {
   "cell_type": "code",
   "execution_count": 65,
   "metadata": {},
   "outputs": [
    {
     "name": "stdout",
     "output_type": "stream",
     "text": [
      "Not Weird\n"
     ]
    }
   ],
   "source": [
    "# ex 5\n",
    "N = float(input(\"input N\"))\n",
    "\n",
    "if N % 2 == 0:\n",
    "    if 2 <= N <= 5:\n",
    "        print(\"Not Weird\")\n",
    "    elif 6 <= N <= 20:\n",
    "        print(\"Weird\")\n",
    "    elif N > 20:\n",
    "        print(\"Not Weird\")\n",
    "else:\n",
    "    print(\"Weird\")"
   ]
  },
  {
   "cell_type": "code",
   "execution_count": null,
   "metadata": {},
   "outputs": [],
   "source": []
  }
 ],
 "metadata": {
  "kernelspec": {
   "display_name": "TTS",
   "language": "python",
   "name": "python3"
  },
  "language_info": {
   "codemirror_mode": {
    "name": "ipython",
    "version": 3
   },
   "file_extension": ".py",
   "mimetype": "text/x-python",
   "name": "python",
   "nbconvert_exporter": "python",
   "pygments_lexer": "ipython3",
   "version": "3.9.16"
  },
  "orig_nbformat": 4,
  "vscode": {
   "interpreter": {
    "hash": "3384eee6bb8ada208850f3b94db2300fb9179cb6250834b136f56e99636d90f6"
   }
  }
 },
 "nbformat": 4,
 "nbformat_minor": 2
}
