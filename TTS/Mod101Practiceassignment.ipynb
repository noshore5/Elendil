{
 "cells": [
  {
   "cell_type": "code",
   "execution_count": 1,
   "metadata": {},
   "outputs": [
    {
     "name": "stdout",
     "output_type": "stream",
     "text": [
      "shore noah\n"
     ]
    }
   ],
   "source": [
    "fname = input(\"please enter first name\")\n",
    "lname = input(\"please enter last name\")\n",
    "\n",
    "print(lname, fname)"
   ]
  },
  {
   "cell_type": "code",
   "execution_count": 3,
   "metadata": {},
   "outputs": [
    {
     "data": {
      "text/plain": [
       "'55'"
      ]
     },
     "execution_count": 3,
     "metadata": {},
     "output_type": "execute_result"
    }
   ],
   "source": [
    "x = str(5)\n"
   ]
  },
  {
   "cell_type": "code",
   "execution_count": 1,
   "metadata": {},
   "outputs": [
    {
     "name": "stdout",
     "output_type": "stream",
     "text": [
      "492\n"
     ]
    }
   ],
   "source": [
    "n = str(input(\"please enter integer\")) # \n",
    "nn = n+n # 4 + 4 = 44\n",
    "nnn = n+n+n\n",
    "ans = int(n)+int(nn)+int(nnn)\n",
    "print(ans)"
   ]
  },
  {
   "cell_type": "code",
   "execution_count": 7,
   "metadata": {},
   "outputs": [
    {
     "name": "stdout",
     "output_type": "stream",
     "text": [
      "I have heard of romania, It is beautiful\n"
     ]
    }
   ],
   "source": [
    "country = input(\"What country are you from?\")\n",
    "\n",
    "print(\"I have heard of {}, It is beautiful\".format(country))\n",
    "\n"
   ]
  },
  {
   "cell_type": "code",
   "execution_count": 11,
   "metadata": {},
   "outputs": [
    {
     "name": "stdout",
     "output_type": "stream",
     "text": [
      "False\n"
     ]
    }
   ],
   "source": [
    "x = 10\n",
    "y = 50\n",
    "if (x ** 2 > 100 and y < 100):\n",
    "      print(x, y)\n",
    "\n",
    "# Output: Nothing"
   ]
  },
  {
   "cell_type": "code",
   "execution_count": 12,
   "metadata": {},
   "outputs": [
    {
     "name": "stdout",
     "output_type": "stream",
     "text": [
      "[10, 20, 30, 40]\n",
      "[10, 20, 30, 40]\n"
     ]
    }
   ],
   "source": [
    "a = [10, 20]\n",
    "b = a\n",
    "b += [30, 40]\n",
    "print(a)\n",
    "print(b)\n",
    "\n",
    "# the output is a concatenation of lists, and a is updated as well \n",
    "# because they point to the same object"
   ]
  },
  {
   "cell_type": "code",
   "execution_count": 20,
   "metadata": {},
   "outputs": [
    {
     "name": "stdout",
     "output_type": "stream",
     "text": [
      "2\n"
     ]
    }
   ],
   "source": [
    "print(2%6)\n",
    "# modulus"
   ]
  },
  {
   "cell_type": "code",
   "execution_count": 21,
   "metadata": {},
   "outputs": [
    {
     "name": "stdout",
     "output_type": "stream",
     "text": [
      "216\n"
     ]
    }
   ],
   "source": [
    "print(2 * 3 ** 3 * 4)\n",
    "# 2 * (3^3) * 4"
   ]
  },
  {
   "cell_type": "code",
   "execution_count": null,
   "metadata": {},
   "outputs": [],
   "source": [
    "# jupyter notebook is an interactive code document (file) that\n",
    "# displays cells of code with outputs in between them\n",
    "\n",
    "# the alternatives that I know are simply .py files, where the entire document\n",
    "# is compiled together and the output is displayed in a shell"
   ]
  }
 ],
 "metadata": {
  "kernelspec": {
   "display_name": "pytorch",
   "language": "python",
   "name": "python3"
  },
  "language_info": {
   "codemirror_mode": {
    "name": "ipython",
    "version": 3
   },
   "file_extension": ".py",
   "mimetype": "text/x-python",
   "name": "python",
   "nbconvert_exporter": "python",
   "pygments_lexer": "ipython3",
   "version": "3.7.13"
  },
  "orig_nbformat": 4,
  "vscode": {
   "interpreter": {
    "hash": "4172d649225c8fcc6b3e8210a90642e4949e6c810943f71918dd4945336f343d"
   }
  }
 },
 "nbformat": 4,
 "nbformat_minor": 2
}
