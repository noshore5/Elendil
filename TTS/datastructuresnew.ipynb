{
 "cells": [
  {
   "cell_type": "code",
   "execution_count": 1,
   "metadata": {},
   "outputs": [
    {
     "data": {
      "text/plain": [
       "(1j, -1j)"
      ]
     },
     "execution_count": 1,
     "metadata": {},
     "output_type": "execute_result"
    }
   ],
   "source": [
    "# ex 1 \n",
    "import math\n",
    "import cmath # dont neglet complex roots!\n",
    "def solve_quadratic(a,b,c):\n",
    "    x1 = (-b + cmath.sqrt(b**2-4*a*c))/(2*a)\n",
    "    x2 = (-b - cmath.sqrt(b**2-4*a*c))/(2*a)\n",
    "    return x1,x2\n",
    "\n",
    "solve_quadratic(1,0,1)"
   ]
  },
  {
   "cell_type": "code",
   "execution_count": 2,
   "metadata": {},
   "outputs": [
    {
     "name": "stdout",
     "output_type": "stream",
     "text": [
      "<class 'tuple'>\n",
      "5881802312257552497\n"
     ]
    }
   ],
   "source": [
    "# ex 2\n",
    "lst = tuple(int(i) for i in (input(\"enter list of integers\").split(\" \")))\n",
    "print(type(lst))\n",
    "print(hash(lst))"
   ]
  },
  {
   "cell_type": "code",
   "execution_count": 3,
   "metadata": {},
   "outputs": [
    {
     "name": "stdout",
     "output_type": "stream",
     "text": [
      "[6, 12, 18, 4, 12, 20, 28]\n"
     ]
    }
   ],
   "source": [
    "# ex 3\n",
    "\n",
    "listOne = [3, 6, 9, 12, 15, 18, 21]\n",
    "listTwo = [4, 8, 12, 16, 20, 24, 28]\n",
    "\n",
    "listThree = listOne[1::2]+listTwo[::2]\n",
    "print(listThree)"
   ]
  },
  {
   "cell_type": "code",
   "execution_count": 4,
   "metadata": {},
   "outputs": [
    {
     "name": "stdout",
     "output_type": "stream",
     "text": [
      "[8, 45, 11] [12, 14, 23] [89, 45, 78]\n"
     ]
    }
   ],
   "source": [
    "# ex 4\n",
    "\n",
    "sampleList = [11, 45, 8, 23, 14, 12, 78, 45, 89]\n",
    "one = sampleList[:len(sampleList)//3]\n",
    "two = sampleList[len(sampleList)//3:2*len(sampleList)//3]\n",
    "three = sampleList[2*len(sampleList)//3:]\n",
    "\n",
    "print(one[::-1],two[::-1],three[::-1])"
   ]
  },
  {
   "cell_type": "code",
   "execution_count": 6,
   "metadata": {},
   "outputs": [
    {
     "name": "stdout",
     "output_type": "stream",
     "text": [
      "[array([11, 45,  8]), array([23, 14, 12]), array([78, 45, 89])]\n"
     ]
    }
   ],
   "source": [
    "import numpy as np\n",
    "print(np.array_split(sampleList,3))"
   ]
  },
  {
   "cell_type": "code",
   "execution_count": 61,
   "metadata": {},
   "outputs": [
    {
     "name": "stdout",
     "output_type": "stream",
     "text": [
      "1\n",
      "3\n",
      "5\n",
      "6\n",
      "[47, 64, 69, 37, 76, 83, 95, 97]\n"
     ]
    }
   ],
   "source": [
    "# ex 5\n",
    "\n",
    "rollNumber = [47, 64, 69, 37, 76, 83, 95, 97]\n",
    "sampleDict ={'Zach':47, 'Emma':69, 'Kelly':76, 'Jason':97}\n",
    "\n",
    "for idx,i in enumerate(rollNumber.copy()): # I always wondered what enumerate did\n",
    "    \n",
    "    if i not in sampleDict.values():\n",
    "        print(idx)\n",
    "        #del rollNumber[idx]\n",
    "        \n",
    "\n",
    "print(rollNumber)\n",
    "\n"
   ]
  },
  {
   "cell_type": "code",
   "execution_count": null,
   "metadata": {},
   "outputs": [],
   "source": [
    "del rollNumber"
   ]
  },
  {
   "cell_type": "code",
   "execution_count": 10,
   "metadata": {},
   "outputs": [],
   "source": [
    "def integers(): # infinite sequence of integers\n",
    "    i = 1\n",
    "    while True:\n",
    "        yield i\n",
    "        i = i+1\n",
    "    \n",
    "def squares():\n",
    "    for i in integers():\n",
    "        yield i*i\n",
    "\n",
    "def take(n,seq):\n",
    "    seq = iter(seq)\n",
    "    result = []\n",
    "    try:\n",
    "        for i in range(n):\n",
    "            result.append(next(seq))\n",
    "    except StopIteration:\n",
    "        pass\n",
    "    return result"
   ]
  },
  {
   "cell_type": "code",
   "execution_count": 27,
   "metadata": {},
   "outputs": [
    {
     "data": {
      "text/plain": [
       "1"
      ]
     },
     "execution_count": 27,
     "metadata": {},
     "output_type": "execute_result"
    }
   ],
   "source": [
    "take(5,squares())\n",
    "\n"
   ]
  },
  {
   "cell_type": "code",
   "execution_count": 35,
   "metadata": {},
   "outputs": [],
   "source": [
    "def yrange(n):\n",
    "    i = 0\n",
    "    while i < n:\n",
    "        yield i\n",
    "        i += 1\n",
    "\n",
    "y = yrange(5)"
   ]
  },
  {
   "cell_type": "code",
   "execution_count": null,
   "metadata": {},
   "outputs": [],
   "source": []
  }
 ],
 "metadata": {
  "kernelspec": {
   "display_name": "TTS",
   "language": "python",
   "name": "python3"
  },
  "language_info": {
   "codemirror_mode": {
    "name": "ipython",
    "version": 3
   },
   "file_extension": ".py",
   "mimetype": "text/x-python",
   "name": "python",
   "nbconvert_exporter": "python",
   "pygments_lexer": "ipython3",
   "version": "3.9.16"
  },
  "orig_nbformat": 4,
  "vscode": {
   "interpreter": {
    "hash": "3384eee6bb8ada208850f3b94db2300fb9179cb6250834b136f56e99636d90f6"
   }
  }
 },
 "nbformat": 4,
 "nbformat_minor": 2
}
